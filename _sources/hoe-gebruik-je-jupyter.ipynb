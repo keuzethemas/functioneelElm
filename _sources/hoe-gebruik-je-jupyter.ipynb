{
 "cells": [
  {
   "cell_type": "markdown",
   "metadata": {},
   "source": [
    "# Hoe gebruik je Jupyter?"
   ]
  },
  {
   "cell_type": "markdown",
   "metadata": {},
   "source": [
    "Dit is een korte uitleg over hoe Jupyter bestanden gebruikt worden binnen dit lesmateriaal.\n",
    "\n",
    "Om de voorbeelden hieronder interactief te gebruiken, moet je dit via een Jupyter server gebruiken, bijvoorbeeld via Binder - zie hieronder."
   ]
  },
  {
   "cell_type": "markdown",
   "metadata": {},
   "source": [
    "## Waarom gebruiken we Jupyter?"
   ]
  },
  {
   "cell_type": "markdown",
   "metadata": {},
   "source": [
    "Dankzij Jupyter kunnen we stukken voorbeeldcode in de tekst opnemen en kan de lezer/gebruiker die 'uitvoeren' door op 'Run' te klikken. Een voorbeeld: de cel hieronder: er staat een (geldige) expressie in de taal elm (het lijkt inderdaad op een rekensom): "
   ]
  },
  {
   "cell_type": "code",
   "execution_count": 1,
   "metadata": {},
   "outputs": [
    {
     "name": "stdout",
     "output_type": "stream",
     "text": [
      "\u001b[95m6\u001b[0m\u001b[90m : number\u001b[0m\n"
     ]
    }
   ],
   "source": [
    "3 + 3"
   ]
  },
  {
   "cell_type": "markdown",
   "metadata": {},
   "source": [
    "Klik (in een interactief notebook) op de cel en klik dan op 'Run' (of Shift-Return): het duurt soms even, maar direct onder de som komt het antwoord. "
   ]
  },
  {
   "cell_type": "code",
   "execution_count": null,
   "metadata": {},
   "outputs": [],
   "source": []
  },
  {
   "cell_type": "markdown",
   "metadata": {
    "tags": []
   },
   "source": [
    "## Gebruik van Notebooks via Binder\n",
    "\n",
    "Het materiaal op de website is gemaakt met behulp van Jupyter Book. Het materiaal zelf kun je niet interactief gebruiken - maar dit kan wel via Binder:\n",
    "\n",
    "* het notebook van een pagina kun je opstarten via de \"raket\" bovenin: klik op de \"Binder\" knop\n",
    "* het opstarten van Binder duurt even (kan een minuut duren)\n",
    "* je kunt dan met het interactieve notebook van de pagina aan de slag\n",
    "* je kunt de andere notebooks in het materiaal vinden door op het Jupyter logo helemaal linksboven te klikken; in het Jupyter Lab interface selecteer vervolgens de map \"notebooks\", en open je de gewenste notebook(s).\n",
    "\n",
    "Binder start een virtuele machine op met daarin alle notebooks van het materiaal; het notebook van de  pagina waarin je Binder opstart wordt automatisch geopend.\n",
    "\n",
    "```{Warning}\n",
    "Deze virtuele machine (voor jou persoonlijk!) blijft alleen bestaan zolang je er actief mee bezig bent. Als je ca. 10 minuten niets doet, wordt deze weer opgeruimd. **En daarmee verdwijnen ook de gegevens die je ingevoerd hebt.**\n",
    "```\n",
    "\n",
    "Je kunt de gegevens die je ingevuld hebt in een notebook van een Binder-virtuele machine bewaren *in de browser*: gebruik daarvoor de knop van de wolk met het pijltje naar beneden, bovenin het notebook-menu. Je kunt dan later, als je dit notebook in een nieuwe virtuele machine opgestart hebt, je gegevens herstellen met de wolk-knop met het pijltje omhoog. Je kunt het notebook ook naar je computer downloaden. (Maar: je kunt het niet uploaden; je kunt het bijv. wel naar je docent mailen.)\n",
    "\n",
    "Een voordeel van het werken met de tijdelijke virtuele machines van Binder is dat je niets kapot kunt maken: een volgende keer begin je gewoon met een schone lei.\n"
   ]
  },
  {
   "cell_type": "markdown",
   "metadata": {},
   "source": [
    "## Gebruik van Jupyter\n",
    "\n",
    "Een Jupyter Notebook bestaat uit twee soorten cellen: code-cellen en Markdown (tekst) cellen.\n",
    "\n",
    "De code-cellen worden uitgevoerd door de *kernel* die voor het notebook actief is: zie rechtsboven. Daar kun je eventueel ook een andere kernel selecteren - als de verkeerde kernel actief is. (Voor dit materiaal gebruiken we Elm en Elm Repl.) Deze kernel wordt meestal uitgevoerd op de server via welke het notebook uitgevoerd wordt.\n",
    "\n",
    "Je kunt de code in de geselecteerde code-cel uitvoeren door de \"Run\" (pijltje) knop bovenin het notebook-menu; via Shift-Return; of via het \"Run\"-menu in het Jupyter-menu linksboven.\n"
   ]
  },
  {
   "cell_type": "markdown",
   "metadata": {},
   "source": [
    "Soms is het nodig om de kernel opnieuw te starten, bijvoorbeeld om ervoor te zorgen dat alle cellen in de juiste volgorde uitgevoerd worden. Dit kan via het \"Kernel\" menu in het Jupyter-menu."
   ]
  },
  {
   "cell_type": "markdown",
   "metadata": {},
   "source": [
    "### Jupyter Lab\n",
    "\n",
    "Via het Jupyter Lab interface kun je verschillende notebooks openen en gebruiken. Een handleiding hiervoor vind je op https://jupyterlab.readthedocs.io"
   ]
  },
  {
   "cell_type": "markdown",
   "metadata": {},
   "source": [
    "### Jupyter Notebooks\n",
    "\n",
    "Een uitgebreide handleiding voor het gebruik van Jupyter Notebooks vind je via https://jupyter-notebook.readthedocs.io"
   ]
  },
  {
   "cell_type": "code",
   "execution_count": null,
   "metadata": {},
   "outputs": [],
   "source": []
  }
 ],
 "metadata": {
  "kernelspec": {
   "display_name": "Elm Repl",
   "language": "elm",
   "name": "elmreplkernel"
  },
  "language_info": {
   "codemirror_mode": "elm",
   "file_extension": ".elm",
   "mimetype": "text/x-elm",
   "name": "elm"
  }
 },
 "nbformat": 4,
 "nbformat_minor": 4
}
