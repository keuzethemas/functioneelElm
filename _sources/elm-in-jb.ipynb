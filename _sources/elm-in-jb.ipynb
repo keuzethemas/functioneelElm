{
 "cells": [
  {
   "cell_type": "markdown",
   "id": "e1f4318c-bd92-474c-82e1-ea10bc777883",
   "metadata": {},
   "source": [
    "(elm-in-jupyter-book)=\n",
    "# Elm in Jupyter Book"
   ]
  },
  {
   "cell_type": "markdown",
   "id": "a3bbe286-848a-48b6-982a-1a99a289134b",
   "metadata": {},
   "source": [
    "Dit Jupyter Book biedt verschillende manieren om Elm-opdrachten en Elm-programma's in code-cellen uit te voeren.\n",
    "\n",
    "In de eerste plaats is er verschil tussen de gecompileerde versie van Elm en de geïnterpreteerde versie (Elm-REPL).\n",
    "Een tweede verschil is dat je Elm code-cellen kunt uitvoeren als \"Live Code\" of als Jupyter Notebook.\n",
    "Dit geeft in principe 4 mogelijkheden. (*Echter, de gecompileerde versie werkt nog niet als \"Live Code\".*)\n",
    "\n",
    ":::{admonition} Over kernels\n",
    "De code voor de Elm code-cellen wordt niet in de browser uitgevoerd, maar op een server \"elders\".\n",
    "Op die server draait een Elm-REPL of een Elm (compilatie) *kernel* die de opdrachten uit de code-cellen verwerkt.\n",
    ":::\n",
    "\n",
    "## Elm REPL\n",
    "\n",
    "REPL staat voor: Read-Eval-Print-Loop. Elm-REPL is een interpreter die Elm-opdrachten regel voor regel uitvoert. Deze uitvoering verandert de toestand (namen en waarden) voor de regels (code-cellen) die je hierna uitvoert.\n",
    "\n",
    "De Elm interpreter (Elm REPL) verwerkt de invoer (het programma) steeds direct, stap voor stap, in de context van de eerder uitgevoerde stappen (\"incrementeel\"). Dit model past goed bij het Jupyter notebook model, waarbij code-cellen stuk voor stuk direct uitgevoerd worden - bijvoorbeeld met de Python REPL interpreter. Dit model is handig als je de beginselen van Elm als functionele taal wilt leren, omdat je per stap direct feedback krijgt.\n",
    "\n",
    ":::{warning}\n",
    "De Elm REPL code kun je *niet uitvoeren in https://elm-lang.org/try*. Daar wordt steeds een compleet Elm programma verwacht voor compilatie en uitvoering in de browser-context. Het programma moet resulteren in HTML-code, je hebt geen *print* opdracht o.i.d.\n",
    ":::\n",
    "\n",
    ":::{warning} \n",
    "De volgorde waarin de cellen uitgevoerd worden is van belang. De aanname is dat de cellen in de tekst-volgorde uitgevoerd worden. Als je dat niet doet, kun je vreemde resultaten krijgen, bijvoorbeeld als een \"import\" of een definitie overgeslagen is.\n",
    ":::\n",
    "\n",
    "**Herstarten van de kernel.** De Elm REPL kernel kan door je experimenten soms in een vreemde toestand raken, die niet meer klopt met de aannames van het Jupyter (Note)book. In dat geval kun je de kernel opnieuw opstarten, eventueel met \"een schone lei\": *restart and clear outputs*. Je hoeft bij je experimenten dus niet bang te zijn dat je iets kapot maakt, of in paniek te raken als je vreemde resultaten krijgt. Een restart van de kernel lost veel problemen voor je op. "
   ]
  },
  {
   "cell_type": "markdown",
   "id": "47e47f44-4a55-40ce-a280-ef720deef273",
   "metadata": {},
   "source": [
    "### Live Code in Jupyter Book\n",
    "\n",
    "Je kunt de code-cellen in een Jupyter Book pagina \"live\" maken via de button \"Live Code\" onder het raket-icoontje bovenin. Als je dit opgestart hebt moet je even wachten totdat de \"launch ready\" is (in groene letters). Dit kan soms even duren, vooral als er net een nieuwe versie van het Jupyter Book is.\n",
    "\n",
    "Een \"live\" cel heeft een \"run\" button, en \"restart\" en \"restart & run all\" buttons.\n",
    "Met de \"run\" button voer je de code in de cel boven de run-button uit. Je kunt deze code aanpassen en de cel opnieuw uitvoeren. Jupyter Book is bedoeld voor dit soort experimenten die je kunnen helpen om de programma-code te begrijpen.\n",
    "Soms staat er ook opdrachten waarin je gevraagd wordt om de code op een bepaalde manier aan te passen.\n",
    "\n",
    "```{admonition} Aan de slag\n",
    "Maak deze pagina \"live\" door op de Live Code button te klikken.\n",
    "Je kunt dan de opdrachten hieronder uitvoeren.\n",
    "```"
   ]
  },
  {
   "cell_type": "markdown",
   "id": "c6148a3e-6c22-43a8-8dd4-7dd02219725b",
   "metadata": {},
   "source": [
    "### Elm REPL voorbeelden\n",
    "\n",
    "Elm-REPL maakt het eenvoudig om te experimenteren met kleine stukjes code, die je cel voor cel uitvoert.\n",
    "\n",
    "* voer de cellen in de gegeven volgorde uit;\n",
    "* geef als invoer voor REPL per cel een ELM-opdracht die ''op 1 regel past'';\n",
    "* of de definitie van een (1) functie (of van een type) - eventueel op meerdere regels;\n",
    "* gebruik verschillende namen voor definities in verschillende cellen; vermijd her-definitie van een naam in verschillende cellen\n",
    "\n",
    "Als de opdracht niet op 1 regel past, kan de Elm-REPL kernel in de war raken, met vreemde foutmeldingen als resultaat. Je kunt dan ook bij de volgende opdrachten problemen krijgen. Remedie: \"restart kernel\".\n",
    "\n",
    "Als een cel meer dan één definitie bevat raakt de Elm-REPL in de war, meestal onherstelbaar (*restart kernel*).\n",
    "\n",
    "Elm is *gevoelig* voor *indentatie* (inspringen): het aantal spaties aan het begin van een regel heeft betekenis in Elm.\n",
    "Als je hierin een fout maakt, betekent je Elm programma mogelijk iets anders dan je denkt.\n",
    "\n",
    "Nog een tip:\n",
    "\n",
    "* als namen als `length`, `map` of `foldr` niet gevonden worden, heb je mogelijk niet de juiste libraries geïmporteerd.\n",
    " \n",
    "We geven hieronder enkele voorbeelden.\n",
    "\n",
    "**Opdracht.** Probeer deze voorbeelden uit als \"Live Code\". Experimenteer met de Elm-uitdrukking en bekijk het resultaat."
   ]
  },
  {
   "cell_type": "markdown",
   "id": "0486eda3-f8c4-4456-b87b-03ef4bfd5fb7",
   "metadata": {},
   "source": [
    "**Elm als rekenmachine.**"
   ]
  },
  {
   "cell_type": "code",
   "execution_count": null,
   "id": "93ce7cc0-cf11-47d1-9d21-25b04250b524",
   "metadata": {},
   "outputs": [],
   "source": [
    "3 + 4 * 5"
   ]
  },
  {
   "cell_type": "markdown",
   "id": "1ec7e018-d5ab-4938-b7f2-282ebec81edb",
   "metadata": {},
   "source": [
    "**Elm functie-definitie.**"
   ]
  },
  {
   "cell_type": "code",
   "execution_count": null,
   "id": "c4771cc6-3374-47c9-a43f-df8192ec682a",
   "metadata": {},
   "outputs": [],
   "source": [
    "twice x =\n",
    "  x + x"
   ]
  },
  {
   "cell_type": "markdown",
   "id": "27032b7f-6c00-43af-81c6-10e3a5b9a5a3",
   "metadata": {},
   "source": [
    "Voorbeeld van een bijbehorende aanroep (zonder haakjes om het argument!):"
   ]
  },
  {
   "cell_type": "code",
   "execution_count": null,
   "id": "063c53c9-635f-426e-9fbe-92728f3b1f31",
   "metadata": {},
   "outputs": [],
   "source": [
    "twice 10"
   ]
  },
  {
   "cell_type": "markdown",
   "id": "d628848b-a422-4fcf-a898-4ef849c1ebea",
   "metadata": {},
   "source": [
    "**Elm heeft 'sterke typering'.**"
   ]
  },
  {
   "cell_type": "code",
   "execution_count": null,
   "id": "2914b9ed-dc31-4b34-b5a5-564c28bf5766",
   "metadata": {},
   "outputs": [],
   "source": [
    "10 + \"ten\""
   ]
  },
  {
   "cell_type": "markdown",
   "id": "c6464d36-2559-4244-9d7e-35b30b0da3ef",
   "metadata": {},
   "source": [
    "**Opdracht.** Verander de `+` in `++` en probeer het nog eens. Kun je deze uitdrukking aanpassen zodat je geen foutmelding krijgt? Als je kernel in de war lijkt, herstart deze dan."
   ]
  },
  {
   "cell_type": "markdown",
   "id": "2ad00462-d43e-4a99-aa8a-a87db0471319",
   "metadata": {},
   "source": [
    "## Jupyter Notebook interface\n",
    "\n",
    "Je kunt deze pagina ook opstarten als Jupyter Notebook. Gebruik hiervoor de knop \"Binder\" onder het raketje bovenin.\n",
    "Je moet even wachten totdat de (privé!) virtuele machine (server) voor de kernel(s) opgestart is.\n",
    "Dan krijg je deze pagina in het Jupyter Notebook interface.\n",
    "\n",
    "Voor de uitvoering van de Elm-code is het belangrijkste verschil dat er geen \"run\" knop per cel is: deze knop vind je bovenin, met in het kernel-menu de mogelijkheid om de kernel opnieuw te starten. Maar je kunt een cel ook uitvoeren door (i) deze te selecteren; en (ii) Shift-Enter te toetsen.\n",
    "\n",
    "Voor een uitgebreidere uitleg van het Jupyter Notebook interface, zie: "
   ]
  },
  {
   "cell_type": "markdown",
   "id": "851f06a0-ef9a-40d5-b8e8-09f5c940fd3e",
   "metadata": {},
   "source": [
    "```{admonition} Aan de slag (2)\n",
    "Open deze pagina als Jupyter Notebook, via de \"Binder\" knop onder het raketje.\n",
    "Je kunt dan de opdrachten hierboven opnieuw uitvoeren.\n",
    "```"
   ]
  },
  {
   "cell_type": "markdown",
   "id": "8ae8942b-001f-41ef-8065-dda23441eb3b",
   "metadata": {},
   "source": [
    "## Elm (compilatie) kernel"
   ]
  },
  {
   "cell_type": "markdown",
   "id": "321c697d-6122-4b14-ad8f-aaa37ce8a4b4",
   "metadata": {},
   "source": [
    "Naast de Elm-REPL kernel is er de Elm kernel die de code eerst compileert (naar JavaScript) en dan uitvoert.\n",
    "Voor deze kernel moet je de cellen die samen het programma vormen afsluiten met de regel:\n",
    "\n",
    "```\n",
    "-- compile-code\n",
    "```\n",
    "\n",
    "Deze manier van werken komt het meest overeen met het gebruik van Elm in de browser, als vervanger van JavaScript: dat is waar Elm voor ontworpen is."
   ]
  },
  {
   "cell_type": "markdown",
   "id": "4fc78165-ca60-4331-ac52-8e06f841e8b0",
   "metadata": {},
   "source": [
    "Om vlot te werken is het aan te raden om je hele programma in één cel te plaatsen.\n",
    "Dan hoef je niet steeds meerdere cellen uit te voeren als je het programma verandert en opnieuw wilt proberen."
   ]
  },
  {
   "cell_type": "markdown",
   "id": "ed497f96-2658-43e5-8c1f-f05de2a8bb17",
   "metadata": {},
   "source": [
    "*De Elm (compilatie) kernel werkt momenteel alleen in Jupyter Notebook, niet in \"Live Code\".*\n",
    "\n",
    "**Opdracht.** \n",
    "\n",
    "* Start deze pagina (als je dat nog niet gedaan had) als Jupyter Notebook via de \"Binder\" button onder het raketje.\n",
    "* Verander de kernel van \"Elm REPL\" naar \"Elm\": rechts boven de tekst op deze pagina zie je een cirkel met links daarvan \"Elm REPL\". Klik op de tekst \"Elm REPL\": je krijgt dan een pop-up waarin je een andere kernel kunt kiezen. Kies voor \"Elm\".\n",
    "* Voer de onderstaande code-cel uit (met Shift-Enter, of via het Kernel-menu bovenin)."
   ]
  },
  {
   "cell_type": "markdown",
   "id": "1d7366f7-bd83-4505-b677-273a5221e5c1",
   "metadata": {},
   "source": [
    "Een eerste voorbeeld van een programma met eenvoudige tekst-uitvoer (in de HTML-context):"
   ]
  },
  {
   "cell_type": "code",
   "execution_count": null,
   "id": "b8269e2e-8d90-4fa2-a70c-50a83f671c33",
   "metadata": {},
   "outputs": [],
   "source": [
    "import Html exposing (text)\n",
    "\n",
    "\n",
    "main =\n",
    "  text (String.fromInt 42)\n",
    "  \n",
    "-- compile-code"
   ]
  },
  {
   "cell_type": "markdown",
   "id": "de345b9a-af33-48b3-9fee-8702c5ef36b1",
   "metadata": {},
   "source": [
    "* Voer de onderstaande code-cel uit.\n",
    "\n",
    "Als het programma loopt, met een fraaie tekening, kun je daaronder links een (klein) getal invoeren waarmee je een andere variant krijgt. Probeer 1, 2, 3, 4, 5, 6"
   ]
  },
  {
   "cell_type": "code",
   "execution_count": null,
   "id": "515d0756-648a-45cb-aa79-291cb032cc44",
   "metadata": {},
   "outputs": [],
   "source": [
    "import Html exposing (text, div, input, Attribute)\n",
    "import Browser exposing (sandbox)\n",
    "import Html.Events exposing (on, keyCode, onInput)\n",
    "import Html.Attributes exposing(..)\n",
    "import Json.Decode as Json\n",
    "import String exposing(split)\n",
    "import List exposing(..)\n",
    "import Maybe exposing(..)\n",
    "import Svg exposing (..)\n",
    "import Svg.Attributes exposing (..)\n",
    "\n",
    "type alias Point =\n",
    "    { x : Float\n",
    "    , y : Float\n",
    "    }\n",
    "\n",
    "\n",
    "koch : Point -> Point -> Int -> List Point -> List Point\n",
    "koch a b limit points =\n",
    "    let\n",
    "        ( dx, dy ) =\n",
    "            ( b.x - a.x, b.y - a.y )\n",
    "\n",
    "        dist =\n",
    "            dx * dx + dy * dy |> sqrt\n",
    "\n",
    "        unit =\n",
    "            dist / 3\n",
    "\n",
    "        angle =\n",
    "            atan2 dy dx\n",
    "\n",
    "        p1 =\n",
    "            Point (a.x + dx / 3) (a.y + dy / 3)\n",
    "\n",
    "        p2 =\n",
    "            Point\n",
    "                (p1.x\n",
    "                    + (cos (angle - pi / 3))\n",
    "                    * unit\n",
    "                )\n",
    "                (p1.y\n",
    "                    + (sin (angle - pi / 3))\n",
    "                    * unit\n",
    "                )\n",
    "\n",
    "        p3 =\n",
    "            Point (b.x - dx / 3) (b.y - dy / 3)\n",
    "    in\n",
    "        if limit > 1 then\n",
    "            let\n",
    "                l =\n",
    "                    limit - 1\n",
    "            in\n",
    "                List.concat\n",
    "                    [ points\n",
    "                    , koch a p1 l points\n",
    "                    , koch p1 p2 l points\n",
    "                    , koch p2 p3 l points\n",
    "                    , koch p3 b l points\n",
    "                    ]\n",
    "        else\n",
    "            a :: p1 :: p2 :: p3 :: b :: points\n",
    "\n",
    "\n",
    "startP1 : Point\n",
    "startP1 =\n",
    "    Point 0 -150\n",
    "\n",
    "startP2 : Point\n",
    "startP2 =\n",
    "    Point 150 100\n",
    "\n",
    "\n",
    "startP3 : Point\n",
    "startP3 =\n",
    "    Point -150 100\n",
    "    \n",
    "pointsListToString: List Point -> String\n",
    "pointsListToString l =\n",
    "\n",
    "   if List.isEmpty l then\n",
    "       \"\"\n",
    "   else\n",
    "      let\n",
    "        h = withDefault (Point 0 0) (head (take 1 l))\n",
    "      in\n",
    "        (String.fromFloat h.x) ++ \",\" ++ (String.fromFloat h.y) ++ \" \" ++ (pointsListToString (drop 1 l))\n",
    "\n",
    "main = Browser.sandbox { init = init, update = update, view = view }\n",
    "\n",
    "type alias Model = { content : String }\n",
    "\n",
    "init : Model\n",
    "init = { content = \"1\" }\n",
    "\n",
    "view model =\n",
    "   let\n",
    "        path =\n",
    "            pointsListToString (koch startP1 startP2 (Maybe.withDefault 1 (String.toInt model.content)) []) ++ pointsListToString (koch startP2 startP3 (Maybe.withDefault 1 (String.toInt model.content)) []) ++ pointsListToString (koch startP3 startP1 (Maybe.withDefault 1 (String.toInt model.content)) [])\n",
    "   in\n",
    "        div []\n",
    "          [ input [ placeholder \"numbers separated by ,\", value model.content, onInput Change ] []\n",
    "          , svg [ viewBox \"0 0 200 200\", Svg.Attributes.width \"400px\" ]\n",
    "\n",
    "           [ g [ transform \"translate(100, 100) scale(0.5,-0.5)\" ]\n",
    "\n",
    "                 [ \n",
    "                    polyline [ fill \"none\", stroke \"black\", points path] []\n",
    "\n",
    "                ]\n",
    "\n",
    "           ]\n",
    "          ]\n",
    "          \n",
    "type Msg \n",
    "  = Change String\n",
    "\n",
    "update : Msg -> Model -> Model\n",
    "update msg model =\n",
    "  case msg of\n",
    "    Change newContent ->\n",
    "        { model | content = newContent }\n",
    "-- compile-code"
   ]
  }
 ],
 "metadata": {
  "kernelspec": {
   "display_name": "Elm Repl",
   "language": "elm",
   "name": "elmreplkernel"
  },
  "language_info": {
   "codemirror_mode": "elm",
   "file_extension": ".elm",
   "mimetype": "text/x-elm",
   "name": "elm"
  }
 },
 "nbformat": 4,
 "nbformat_minor": 5
}
