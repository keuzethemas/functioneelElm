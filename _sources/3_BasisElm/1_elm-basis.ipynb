{
 "cells": [
  {
   "cell_type": "markdown",
   "id": "6ac46449-738e-4101-aad0-2d7b963b5889",
   "metadata": {},
   "source": [
    "# 3.1 De basis van Elm\n",
    "\n",
    "De code cellen in dit hoofdstuk bevatten Elm commando's die op de Elm command line (de zogenaamde 'elm REPL') uitgevoerd kunnen worden. \n",
    "\n",
    ":::{admonition} Uitvoeren van de Elm code-cellen\n",
    "Er zijn twee manieren om de Elm code-cellen op deze pagina uit te voeren:\n",
    "\n",
    "* in Jupyter Book: gebruik de \"Live Code\" button onder het raketje bovenin;\n",
    "* of, start de Jupyter Notebook interface op via de \"Binder\" button onder het raketje.\n",
    "\n",
    "In beide gevallen moet je even wachten totdat je privé Virtuele Machine aangemaakt en opgestart is: in het begin soms een minuut, later meestal veel korter.\n",
    "Zie voor een uitgebreidere uitleg: {ref}`elm-in-jupyter-book`.\n",
    "\n",
    "In Jupyter Book heeft elke \"live\" code-cel een eigen run-button.\n",
    "Voor het uitvoeren van een code-cel in Jupyter Notebook plaats je de cursor in de code-cel; vervolgens druk je op de \"run\" button (pijltje naar rechts) bovenin; of je gebruikt Shift-Enter. \n",
    ":::"
   ]
  },
  {
   "cell_type": "markdown",
   "id": "47f979af-5449-48f3-bcb0-ad2c40bb7ccd",
   "metadata": {},
   "source": [
    ":::{warning}\n",
    "De code-cellen op deze pagina zijn bedoeld om uitgevoerd te worden met Elm-REPL (de interpreter). Deze kun je niet gebruiken in https://elm-lang.org/try !\n",
    ":::"
   ]
  },
  {
   "cell_type": "markdown",
   "id": "2d83a926-ebb3-412f-a8a4-a95d2349bb86",
   "metadata": {},
   "source": [
    "We kunnen nu *Elm expressies* intypen die dan direct geëvalueerd worden."
   ]
  },
  {
   "cell_type": "code",
   "execution_count": 1,
   "id": "f6312236-72c2-4fd3-ba38-586866efd55d",
   "metadata": {},
   "outputs": [
    {
     "name": "stdout",
     "output_type": "stream",
     "text": [
      "\u001b[95m42\u001b[0m\u001b[90m : number\u001b[0m\n"
     ]
    }
   ],
   "source": [
    "42"
   ]
  },
  {
   "cell_type": "markdown",
   "id": "8e6b2054-972a-4cd8-8c17-4a9b60f200ff",
   "metadata": {},
   "source": [
    "Even later verschijnt de reactie: \n",
    "`42 : number`\n",
    "ofwel REPL heeft de expressie uitgerekend, met het getal (number) 42 als resultaat.\n",
    "\n",
    "Je kunt de voorbeelden uit dit hoofdstuk ook in de zogenaamde 'elm REPL' uitvoeren. Vanuit de command line (onder MS-windows of MacOS), typ: 'elm repl' om de REPL te starten. \n",
    "REPL staat voor ... (google hier eens op). Daar kun je dan een commando intypen en op de enter-toets drukken om het uit te voeren. In dit hoofdstuk heb je dat niet nodig en kun je alles vanuit dit Jupyter-notebook doen.\n",
    "\n",
    "> Je kunt de inhoud van een code-cell zelf aanpassen en de berekening opnieuw uitvoeren (Run). Probeer dit!\n",
    "\n",
    "Iets spannender (denk even na of je het antwoord van deze vermenigvuldiging\n",
    "makkelijk zelf zou kunnen berekenen): bereken 42 maal 38\n",
    "\n",
    "Selecteer de regel hieronder en druk op Shift-Enter (of gebruik weer Run)."
   ]
  },
  {
   "cell_type": "code",
   "execution_count": 2,
   "id": "c26ebaae-7c26-46f6-ab9e-414f962fe6a9",
   "metadata": {},
   "outputs": [
    {
     "name": "stdout",
     "output_type": "stream",
     "text": [
      "\u001b[95m1596\u001b[0m\u001b[90m : number\u001b[0m\n"
     ]
    }
   ],
   "source": [
    "42 * 38"
   ]
  },
  {
   "cell_type": "markdown",
   "id": "717be527-a067-48eb-92b2-8acc42b5a747",
   "metadata": {},
   "source": [
    "Hee, je kunt het dus als rekenmachine gebruiken... Enfin, je bent waarschijnlijk\n",
    "niet heel erg verbaasd.\n",
    "Inderdaad kun je met +, -, * en / optellen, aftrekken, vermenigvuldigen en\n",
    "delen.\n",
    "Wat denk je dat er uitkomt als je `12 + 3 * 2` berekent?"
   ]
  },
  {
   "cell_type": "code",
   "execution_count": 3,
   "id": "48dae4e1-47ea-415f-99c2-7a0f4db775fa",
   "metadata": {},
   "outputs": [
    {
     "name": "stdout",
     "output_type": "stream",
     "text": [
      "\u001b[95m18\u001b[0m\u001b[90m : number\u001b[0m\n"
     ]
    }
   ],
   "source": [
    "12 + 3 * 2"
   ]
  },
  {
   "cell_type": "markdown",
   "id": "6b3c95ea-dd2c-4d4c-bbb8-941509f01bd8",
   "metadata": {},
   "source": [
    "Houdt Elm rekening met de volgorde van berekening? Wordt eerst de\n",
    "\\+ of eerst \\* uitgevoerd? Ofwel: is dit gelijk aan `( 12 + 3 ) * 2` of juist aan\n",
    "`12 + ( 3 * 2)` ?\n",
    "\n",
    "Als je zelf de volgorde wil aangeven kun je met behulp van haakjes zelf de volgorde van berekening kiezen:"
   ]
  },
  {
   "cell_type": "code",
   "execution_count": 4,
   "id": "af911674-bb7a-4868-8404-0dfbf4f1d7f8",
   "metadata": {},
   "outputs": [
    {
     "name": "stdout",
     "output_type": "stream",
     "text": [
      "\u001b[95m18\u001b[0m\u001b[90m : number\u001b[0m\n"
     ]
    }
   ],
   "source": [
    "12 + ( 3 * 2 )"
   ]
  },
  {
   "cell_type": "markdown",
   "id": "ff413b3e-90f4-4c3f-af23-7baa63ba6154",
   "metadata": {},
   "source": [
    "of:"
   ]
  },
  {
   "cell_type": "code",
   "execution_count": 5,
   "id": "17a917c4-7e75-4632-8e24-17bc36f94e89",
   "metadata": {},
   "outputs": [
    {
     "name": "stdout",
     "output_type": "stream",
     "text": [
      "\u001b[95m30\u001b[0m\u001b[90m : number\u001b[0m\n"
     ]
    }
   ],
   "source": [
    "( 12 + 3 ) * 2"
   ]
  },
  {
   "cell_type": "markdown",
   "id": "8ee0147f-cce7-46da-9606-cff198b0191f",
   "metadata": {},
   "source": [
    "Als je een uitkomst wilt bewaren kun je die opslaan in een variabele: "
   ]
  },
  {
   "cell_type": "code",
   "execution_count": 6,
   "id": "3f5404f5-749e-4d7e-a5c1-9fa02f76f7d5",
   "metadata": {},
   "outputs": [
    {
     "name": "stdout",
     "output_type": "stream",
     "text": [
      "\u001b[95m30\u001b[0m\u001b[90m : number\u001b[0m\n"
     ]
    }
   ],
   "source": [
    "x = ( 12 +  3 ) * 2"
   ]
  },
  {
   "cell_type": "markdown",
   "id": "eb0f74b3-a245-46f8-9978-6edd507289e2",
   "metadata": {},
   "source": [
    "Elm Repl vertelt je dat er 30 uitkomt en dat dat een `number` is. \n",
    "Dit lijkt op wat een variabele in de wiskunde betekent, maar is niet helemaal hetzelfde: de waarde van een variabele (bijvoorbeeld `x`) is een vaste waarde die je wilt gaan ontdekken. Bij functioneel programmeren geef je zelf de variabele een waarde. \n",
    "\n",
    "Er zijn echter ook verschillen met wiskunde: De naam van een variabele kan in elm ook uit meerdere letters bestaan: Als je in elm opschrijft: `xy` bedoel je een variabele met de twee-letter lange naam `xy`, terwijl in de wiskunde dan (meestal) bedoeld wordt: '(waarde van) `x` vermenigvuldigd met (waarde van) `y`'. Door langere betekenisvolle namen te gebruiken wordt de code leesbaarder. \n",
    "\n",
    "Als mijn (rechthoekige) tuin bijvoorbeeld 6 meter lang is en 4 meter breed en ik wil de oppervlakte laten berekenen, dan kan dat op een leesbare manier worden opgeschreven als:"
   ]
  },
  {
   "cell_type": "code",
   "execution_count": 7,
   "id": "ae842ff8-21d4-4daa-95fe-1446c8e3ae8a",
   "metadata": {},
   "outputs": [
    {
     "name": "stdout",
     "output_type": "stream",
     "text": [
      "\u001b[95m6\u001b[0m\u001b[90m : number\u001b[0m\n",
      "\u001b[95m4\u001b[0m\u001b[90m : number\u001b[0m\n",
      "\u001b[95m24\u001b[0m\u001b[90m : number\u001b[0m\n"
     ]
    }
   ],
   "source": [
    "lengte = 6\n",
    "breedte = 4\n",
    "oppervlakte = lengte * breedte"
   ]
  },
  {
   "cell_type": "markdown",
   "id": "eca7c806-b0c4-4202-8460-429f1c82b875",
   "metadata": {},
   "source": [
    "## Het type String\n",
    "\n",
    "Run eens: "
   ]
  },
  {
   "cell_type": "code",
   "execution_count": 8,
   "id": "f4683ca4-5107-4d1a-8dc2-e56d6231d2b4",
   "metadata": {},
   "outputs": [
    {
     "name": "stdout",
     "output_type": "stream",
     "text": [
      "\u001b[93m\"1596\"\u001b[0m\u001b[90m : String\u001b[0m\n"
     ]
    }
   ],
   "source": [
    "String.fromInt( 42 * 38 )"
   ]
  },
  {
   "cell_type": "markdown",
   "id": "58dca765-b6db-4053-ab6b-0e65663ecee5",
   "metadata": {},
   "source": [
    "en vergelijk het resultaat eens met de uitkomst die je eerder kreeg met `42 * 38`. Wat valt je op? \n",
    "Juist: er staat nu `String` achter in plaats van `number`. Dat komt omdat de uitkomst van de vermenigvuldiging in de functie 'String.fromInt' wordt gestopt, en die maakt er een string van. Een string is een _ketting_ van _characters_ (zeg maar letters, maar bijvoorbeeld een _spatie_, een _komma_, een punt en een _tab_ tellen dan ook als character, dus het zijn niet alleen maar de letters uit het alfabet). \n",
    "\n",
    "Het woord *functie* is gevallen. In Elm struikel je al heel snel over de functies: bijna alles wordt met functies gedaan. \n",
    "Je kunt bestaande functies aanroepen, maar ook eigen functies definiëren. \n",
    "In het volgende hoofdstuk gaan we verder in op functies. "
   ]
  }
 ],
 "metadata": {
  "kernelspec": {
   "display_name": "Elm Repl",
   "language": "elm",
   "name": "elmreplkernel"
  },
  "language_info": {
   "codemirror_mode": "elm",
   "file_extension": ".elm",
   "mimetype": "text/x-elm",
   "name": "elm"
  }
 },
 "nbformat": 4,
 "nbformat_minor": 5
}
