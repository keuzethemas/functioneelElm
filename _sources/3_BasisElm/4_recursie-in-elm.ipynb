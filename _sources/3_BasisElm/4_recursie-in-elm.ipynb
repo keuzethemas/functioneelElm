{
 "cells": [
  {
   "cell_type": "markdown",
   "id": "1bea32cc-c8f0-4d4f-96c7-4b3c461a2229",
   "metadata": {},
   "source": [
    "# 3.4 Recursie in elm\n",
    "\n",
    "In het eerdere hoofdstuk over `Recursie` heb je al gelezen dat je met recursie een probleem kunt oplossen door het te verkleinen, of zelfs het hele probleem in kleinere (deel)problemen op te lossen. We gaan nu naar een paar voorbeelden in elm kijken. \n",
    "\n",
    "Stel je voor ik moet een moeilijke berekening 10x achter elkaar doen. Deze uitdaging/challenge kunnen we opsplitsen in 2 deel-challenges: Hoe kan ik 'iets' 10x doen? Hoe kan ik die moeilijke berekening 1x uitvoeren? Laten we even als simpel voorbeeld nemen het gooien met een dobbelsteen en stel we hebben een functie die 0 parameters verwacht en 1 uitkomst teruggeeft: `gooiDobbelsteen()`\n",
    "\n",
    "Hoe kunnen we er nu voor zorgen dat dit 10 keer gebeurt? Misschien heb je de volgende oplossing bedacht: \n",
    "\n",
    "```\n",
    "gooiDobbelsteen()\n",
    "gooiDobbelsteen()\n",
    "gooiDobbelsteen()\n",
    "gooiDobbelsteen()\n",
    "gooiDobbelsteen()\n",
    "gooiDobbelsteen()\n",
    "gooiDobbelsteen()\n",
    "gooiDobbelsteen()\n",
    "gooiDobbelsteen()\n",
    "gooiDobbelsteen()\n",
    "gooiDobbelsteen()\n",
    "```\n",
    "\n",
    "Leuk bedacht maar heeft een paar nadelen. Heb je bijvoorbeeld nageteld of het er wel 10 zijn? Verder kan dit bij 10 nog wel maar software moet vaak iets 100000 keer of nog vaker doen, dat werkt natuurlijk niet. Tot slot is het hoe vaak iets moet gebeuren vaak afhankelijk van een andere input... \n",
    "\n",
    "Enfin, terug naar recursiviteit: Als ik een functie heb die als parameter het getal '10' meekrijgt (hoe vaak het moet \n",
    "gebeuren), die 1x die actie uitvoert en vervolgens een functie zou kunnen aanroepen die (10 - 1)x ofwel 9x die actie\n",
    "uitvoert, heb ik de challenge van 'iets 10x doen' verkleind tot 'iets 9x doen'. Maar hee, het aantal keren dat het \n",
    "'iets' gedaan moest worden was de waarde van de parameter, dus als de functie zichzelf zou kunnen aanroepen met een \n",
    "parameter die 1 kleiner is zijn we (bijna) klaar: 'iets 9x doen' wordt dan namelijk verkleind tot 'iets 8x doen', \n",
    "en dat weer tot 'iets 7x doen', en zo verder tot we bij 1 of 0 zijn. \n",
    "\n",
    "Laten we eerst eens kijken of we dat voor elkaar krijgen met een functie die een aantal streepjes (letter 'I' moet neerzetten): "
   ]
  },
  {
   "cell_type": "code",
   "execution_count": null,
   "id": "d7491cb8-c5b0-4bb3-a703-dcdfc7bc2fe5",
   "metadata": {},
   "outputs": [],
   "source": [
    "repeat n = if n > 0 then \"I\" ++ repeat (n-1) else \"\""
   ]
  },
  {
   "cell_type": "markdown",
   "id": "e023dd6a-4c94-4e3c-b219-2b3476d4e716",
   "metadata": {},
   "source": [
    "De functie verwacht een aantal (hierboven heet de parameter 'n' maar 'aantal' is misschien wel leesbaarder). We roepen de functie nu aan met parameter 3. Hij moet dus 3 streepjes zetten: "
   ]
  },
  {
   "cell_type": "code",
   "execution_count": null,
   "id": "acdc9a44-87b6-4519-89a2-a89f7a69ed14",
   "metadata": {},
   "outputs": [],
   "source": [
    "repeat 3"
   ]
  },
  {
   "cell_type": "markdown",
   "id": "e872d936-925d-4e9b-ab96-6dee19e084cc",
   "metadata": {},
   "source": [
    "Geloof nooit na 1 test dat een functie werkt, probeer het nog eens met parameter 8: "
   ]
  },
  {
   "cell_type": "code",
   "execution_count": null,
   "id": "1af3e2e8-2a20-40d3-99a7-52538bfcd6ee",
   "metadata": {},
   "outputs": [],
   "source": [
    "repeat 8"
   ]
  },
  {
   "cell_type": "markdown",
   "id": "877c7c11-21ac-4107-b6f1-c63b9c211fa3",
   "metadata": {},
   "source": [
    "Snap je hoe de functie werkt? \n",
    "\n",
    "Het geval n = 0 is trouwens wel een aparte, laten we die ook testen: er moeten dan dus 0 streepjes komen: "
   ]
  },
  {
   "cell_type": "code",
   "execution_count": null,
   "id": "30593da9-89e5-4e5f-ab0f-b9dbd8085e6c",
   "metadata": {},
   "outputs": [],
   "source": [
    "repeat 0"
   ]
  },
  {
   "cell_type": "markdown",
   "id": "09282311-345b-49c7-ab01-76219dc19b9f",
   "metadata": {},
   "source": [
    "Wat als we een negatief getal invoeren? Wat zou repeat(-2) doen? "
   ]
  },
  {
   "cell_type": "code",
   "execution_count": null,
   "id": "4c6bf38d-56b4-4493-9c76-d840fb673dea",
   "metadata": {},
   "outputs": [],
   "source": [
    "repeat -2"
   ]
  },
  {
   "cell_type": "markdown",
   "id": "632f8679-c8b8-4afc-b3c7-f18533959826",
   "metadata": {},
   "source": [
    "## 3.4.1 Recursie op een List\n",
    "\n",
    "Bij sommige types werken recursieve functies heel handig. Voorbeelden zijn een 'List' of een zogenaamde 'Tree'. Als je bijvoorbeeld de 'lengte' (aantal elementen) van een List wilt weten kun je dat doen door middel van een functie 'lengte' dat een zogenaamd 'case'-statement gebruikt: "
   ]
  },
  {
   "cell_type": "code",
   "execution_count": null,
   "id": "e723a96c-b0e4-402c-8540-f80b1af7bb15",
   "metadata": {},
   "outputs": [],
   "source": [
    "lengte list = \n",
    "  case list of\n",
    "  []  ->  0 \n",
    "  elt :: restOfList  -> ( 1 + (lengte restOfList) )"
   ]
  },
  {
   "cell_type": "markdown",
   "id": "6d63014b-c595-4d92-8ef2-8362bf38147d",
   "metadata": {},
   "source": [
    "Stel je hebt een String en je wilt met elke letter van die String 'iets' doen. Daarvoor kun je de String-functie 'toList' gebruiken: "
   ]
  },
  {
   "cell_type": "code",
   "execution_count": null,
   "id": "14986ec5-540e-4506-9e02-cc67b7dfaec9",
   "metadata": {},
   "outputs": [],
   "source": [
    "String.toList \"abc\""
   ]
  },
  {
   "cell_type": "markdown",
   "id": "22bb74bc-e0cc-427a-ba9c-badb7d26552f",
   "metadata": {},
   "source": [
    "Merk op dat de losse karakters tussen andere quotes staan dan bij een String gebruikt worden: hiermee wordt aangegeven dat het 1 los karakter 'Char' betreft, terwijl Strings (doorgaans) niet lengte 1 hebben. \n",
    "\n",
    "We gaan nu kijken naar een zogenaamde 'Dictionary', een constructie die in veel programmeertalen voorkomt (in sommige talen heet het een 'Map'). Een Dictionary is een collectie van zogenaamde 'key-value'-pairs. Neem als voorbeeld een Nederlands woordenboek: hierin zitten 'keys' waarop je snel kunt zoeken, dat zijn de woorden. Bij elk woord hoort een 'value': de omschrijving van dat woord. Op de omschrijving zoeken gaat niet handig: dan begin je op een pagina en sla je elke keer een pagina om totdat je de omschrijving hebt gevonden. Een telefoonboek is ook een Dictionary: als je op naam (de key) zoekt vind je snel het bijbehorende telefoonnummer, maar als je een telefoonnummer hebt en de naam erbij wilt zoeken ben je lang bezig (bij een papieren telefoonboek tenminste). \n",
    "Als je snel 2 kanten op wilt heb je 2 Dictionaries nodig: als voorbeeld kun je denken aan een Nederlands-Frans woordenboek en voor de andere richting een Frans-Nederlands woordenboek. Google op 'elm Dictionary' voor meer kennis over Dictionary in elm. \n",
    "\n",
    "Als voorbeeld maken we een Dictionary die als keys de letters (als Char) van het alfabet heeft en als values de morse-code (als String) die bij die letter hoort: "
   ]
  },
  {
   "cell_type": "code",
   "execution_count": null,
   "id": "6ac8f51a-a217-47de-bb92-e18a69f8d8f8",
   "metadata": {},
   "outputs": [],
   "source": [
    "import Dict"
   ]
  },
  {
   "cell_type": "markdown",
   "id": "f6a3dc39-a856-4d0e-8803-2ed53d777e5f",
   "metadata": {},
   "source": [
    "en daarna: "
   ]
  },
  {
   "cell_type": "code",
   "execution_count": null,
   "id": "fdb86105-56fc-4bc1-a27f-390f2f46ae61",
   "metadata": {},
   "outputs": [],
   "source": [
    "Dict.fromList [ ('a' , \".-\") , ('b',\"-...\") , ('c', \"-.-.\") , ('e',\".\") , ('l',\".-..\"), ('m', \"--\")]"
   ]
  },
  {
   "cell_type": "markdown",
   "id": "58ddc37f-cd5c-401e-b8c8-99df4fe5ea40",
   "metadata": {},
   "source": [
    "De eerste regel is nodig zodat elm weet dat je de code die al geprogrammeerd is in 'Dict' wilt gebruiken. Anders zouden we alles elke keer opnieuw moeten programmeren. \n",
    "\n",
    "Hierboven staan maar een paar letters gegeven, zoek zelf de Morse code voor de overige letters op. Sla het resultaat met behulp van 'morseAlfabet = ...' op in de variabele morseAlfabet (let dus op dat je geen tikfouten maakt!). Met de functie 'Dict.keys' kun je opvragen welke keys er in de Dictionary zitten. Als je het hele alfabet erin verwerkt zal het niet meer op een regel passen, gelukkig heb je eerder al gezien hoe je je code op een volgende regel door kunt laten gaan!"
   ]
  },
  {
   "cell_type": "code",
   "execution_count": null,
   "id": "645fa083-fe68-4043-b04c-e9dcdbbbdbf4",
   "metadata": {},
   "outputs": [],
   "source": [
    "morseAlfabet = Dict.fromList [ ('a' , \".-\") , ('b',\"-...\") , ('c', \"-.-.\") , ('e',\".\") , ('l',\".-..\"), ('m', \"--\")]"
   ]
  },
  {
   "cell_type": "code",
   "execution_count": null,
   "id": "5dd9f94a-045f-4035-a7e0-d0f3d5035406",
   "metadata": {},
   "outputs": [],
   "source": [
    "Dict.keys morseAlfabet"
   ]
  },
  {
   "cell_type": "code",
   "execution_count": null,
   "id": "7c2fa6c6-4625-4dd4-8c40-ade09cc041a1",
   "metadata": {},
   "outputs": [],
   "source": [
    "Dict.values morseAlfabet"
   ]
  },
  {
   "cell_type": "markdown",
   "id": "f212b4ab-5dd7-45ab-a27a-8d0a27f59f55",
   "metadata": {},
   "source": [
    "geeft daarentegen de 'values' (dus de morse-codes). De morse-vertaling van een Char kun je krijgen met de functie 'Dict.get': "
   ]
  },
  {
   "cell_type": "code",
   "execution_count": null,
   "id": "cd9c183e-fcf5-453d-a857-e7b972afc0e5",
   "metadata": {},
   "outputs": [],
   "source": [
    "Dict.get 'a' morseAlfabet"
   ]
  },
  {
   "cell_type": "markdown",
   "id": "cfc67503-bb91-4943-b97f-e1ec882dd733",
   "metadata": {},
   "source": [
    "Dit geeft iets terug wat door Elm als 'Maybe String' wordt aangeduid. Reden: als de gezochte letter 'a' niet in de Dict voorkomt weet elm niet welke String terug te geven. Om zeker te weten dat er een String terugkomt is er een manier bedacht om zelf een String mee te geven die gebruikt wordt in een dergelijk geval dat er geen logisch antwoord bestaat. Zoek eens op Dict.get withDefault in de documentatie of op internet.  "
   ]
  },
  {
   "cell_type": "markdown",
   "id": "0d82b7d9-b0ce-4f1a-ac3a-46fdcf189844",
   "metadata": {},
   "source": [
    "### Challenge Morse (1)\n",
    "\n",
    "Nu zou het mooi zijn als we een heel woord (of een hele zin) kunnen vertalen naar Morse. Schrijf hier zelf een functie voor. Gebruik hiervoor de manier om 1 Char te vertalen zoals hierboven gebruikt, gecombineerd met de functie 'String.toList' die de te vertalen String in een List van Chars omzet. Je zult ook de functies 'List.head' en 'List.tail' willen gebruiken (zie het hoofdstuk over Lists in elm). "
   ]
  },
  {
   "cell_type": "markdown",
   "id": "79c8fbda-7727-4f2e-8d5e-a19061f424d1",
   "metadata": {},
   "source": [
    "```elm\n",
    "toMorse = \n",
    "```"
   ]
  },
  {
   "cell_type": "markdown",
   "id": "c227d88c-39d5-4e34-9ee6-2b1305dc92e1",
   "metadata": {},
   "source": [
    "```elm\n",
    "toMorse \"bloemkool\"\n",
    "```"
   ]
  },
  {
   "cell_type": "markdown",
   "id": "0335dd71-9765-47c3-83e5-7667f3d44654",
   "metadata": {},
   "source": [
    "### Challenge Morse (2) (moeilijk)\n",
    "\n",
    "Een extra uitdaging is het om een functie te schrijven die een gecodeerde Morse string (bijvoorbeeld: \". .-.. -- .. ... ..-. ..- -.\", dus met spaties na elke letter-code) terug kan vertalen naar tekst. "
   ]
  },
  {
   "cell_type": "markdown",
   "id": "7e1db170-ca2f-4e0b-b984-0b1c4632ba80",
   "metadata": {},
   "source": [
    "## 3.4.2 Tuples\n",
    "\n",
    "Een functie die meerdere parameters krijgt hebben we al een paar maal gezien, maar tot nu toe kwam er altijd maar 1 waarde uit. In `elm` kan een `function` ook meerdere waarden tegelijk teruggeven. Dit heet dan een `tuple` (een Engels woord, maar je kunt het op z'n Nederlands uitspreken als `tupel`). Een `tuple` wordt geschreven als meerdere waarden met komma's ertussen en haakjes er omheen: `(a,b,c)`. Een functie die 2 parameters krijgt en zowel de som (optelling) als het product (de vermenigvuldiging) van de 2 moet teruggeven kan er als volgt uitzien: "
   ]
  },
  {
   "cell_type": "code",
   "execution_count": null,
   "id": "4727283c-473f-46fb-83fe-2910afb3c5de",
   "metadata": {},
   "outputs": [],
   "source": [
    "somEnProduct x y = ( x + y , x * y ) "
   ]
  },
  {
   "cell_type": "code",
   "execution_count": null,
   "id": "5968a42d-da99-44a7-8959-ab5648ce5944",
   "metadata": {},
   "outputs": [],
   "source": [
    "somEnProduct 3 4"
   ]
  },
  {
   "cell_type": "markdown",
   "id": "2bb25760-7a06-4872-8345-7b372f1e5194",
   "metadata": {},
   "source": [
    "## 3.4.3 Leonardo Pisano\n",
    "\n",
    "Deze naam wel eens gehoord? Zoek er eens op met je favoriete zoek-engine. Je hebt al eerder van deze persoon gehoord onder een andere naam! \n",
    "We gaan de getallenrij van deze meneer realiseren in `elm` met behulp van de function `fibo`. Een eerder genoemde methode was iets als: "
   ]
  },
  {
   "cell_type": "code",
   "execution_count": null,
   "id": "03d82550-39ab-4079-8d06-d83b61eab45c",
   "metadata": {},
   "outputs": [],
   "source": [
    "fibo n = if n <= 2 then n - 1 else fibo(n-1) + fibo(n-2) "
   ]
  },
  {
   "cell_type": "markdown",
   "id": "b7f4d4c5-ba81-4c8b-a14a-402ae4d1fd31",
   "metadata": {},
   "source": [
    "Hoeveel is fibo 5? En fibo 6, fibo 7, fibo 8 en fibo 9?\n",
    "\n",
    "\n",
    "```elm\n",
    "\n",
    "```\n",
    "\n",
    "\n",
    "```elm\n",
    "\n",
    "```\n",
    "\n",
    "\n",
    "```elm\n",
    "\n",
    "```\n",
    "\n",
    "\n",
    "```elm\n",
    "\n",
    "```\n",
    "\n",
    "\n",
    "```elm\n",
    "\n",
    "```"
   ]
  },
  {
   "cell_type": "markdown",
   "id": "d04ef043-0617-4c7a-87cc-617066db7d5a",
   "metadata": {},
   "source": [
    "## 3.4.3 Leonardo Pisano Advanced\n",
    "\n",
    "Bovengenoemde functie `fibo` is wel een elegante definitie maar niet zo'n efficiënte methode van berekening omdat er namelijk veel getallen dubbel berekend worden! Met behulp van tuples kunnen we dat efficiënter maken: \n",
    "Bekijk het tuple `( fibo(n-1) , fibo(n) )` en neem de definitie erbij zie je dat je dit mag schrijven als: \n",
    "`( fibo(n-1) , fibo(n-1)+fibo(n-2) )`, waaruit volgt (misschien zie je het nog niet direct!): \n",
    "als ik een tuple heb met 2 op elkaar volgende (maar verder vrij willekeurig gekozen) fibo-getallen `( fibo(82) , fibo(83) )` kan ik het 'daaropvolgende' fibo-paar berekenen met behulp van: \n",
    "\n",
    "`( fibo(83) , fibo(84) )` is gelijk aan: \n",
    "`( fibo(83) , fibo(82)+fibo(83) )` \n",
    "\n",
    "wat we algemener kunnen opschrijven als: stel we weten dat `( fibo(m-1), fibo(m) )` de waarden `( a , b )` bevat, dan bevat het daarop volgende fibo-tuple `( fibo(m), fibo(m+1) )` de waarden `( a , a+b )`. \n",
    "\n",
    "Beginnen we met het eerste fibo-paar `(0,1)` \n",
    "\n",
    "dan is het 2e `(1,1+0)` ofwel `(1,1)`,\n",
    "\n",
    "het 3e is `(1,1+1)` ofwel `(1,2)`,\n",
    "\n",
    "het 4e is `(2,2+1)` ofwel `(2,3)`,\n",
    "\n",
    "het 5e is `(3,3+2)` ofwel `(3,5)`,\n",
    "\n",
    "het 6e is `(5,5+3)` ofwel `(5,8)`,\n",
    "\n",
    "het 7e is `(8,8+5)` ofwel `(8,13)`.\n",
    "\n",
    "Ik kan fibo(n) berekenen door het goede element van het tuple `( fibo(n-1) , fibo(n) , n )` eruit te nemen. \n",
    "Op [wikipedia over functional programming](https://en.wikipedia.org/wiki/Functional_programming) kun je de volgende efficiënte oplossing in functionele programmeertaal `SequenceL` lezen: \n",
    "\n",
    "```\n",
    "fib(n) := fib_Helper(0, 1, n);\n",
    "\n",
    "fib_Helper(prev, next, n) :=\n",
    "   prev when n < 1 else\n",
    "   next when n = 1 else\n",
    "   fib_Helper(next, next + prev, n - 1);\n",
    "```\n",
    "\n",
    "Als we dit in Elm-notatie opschrijven krijgen we iets als: "
   ]
  },
  {
   "cell_type": "code",
   "execution_count": null,
   "id": "a37cd5e8-d93b-4405-8685-544a4e48c03f",
   "metadata": {},
   "outputs": [],
   "source": [
    "fiboHelper (prev,next,n) = if n < 1 then prev else if n == 1 then next else fiboHelper(next,next+prev,n-1)"
   ]
  },
  {
   "cell_type": "markdown",
   "id": "3747ec16-22d8-4159-9686-c8461a4740e2",
   "metadata": {},
   "source": [
    "En:"
   ]
  },
  {
   "cell_type": "code",
   "execution_count": null,
   "id": "d7c25ccf-49bc-4a16-a55d-3366e5173759",
   "metadata": {},
   "outputs": [],
   "source": [
    "fibo n = fiboHelper(0,1,n) "
   ]
  },
  {
   "cell_type": "markdown",
   "id": "766cc752-5650-4ca3-8b16-1e7b7ede652f",
   "metadata": {},
   "source": [
    "### Challenge Morse (3) (advanced)\n",
    "\n",
    "Mocht je Morse (2) met veel plezier hebben gedaan dan kun je zelfs een manier bedenken om bij een String als \".-...-.--.-..-..-...-...-..--.\" (alle punten en strepen achter elkaar geplakt) álle mogelijke vertalingen terug te geven. Tip: gebruik tuples. "
   ]
  },
  {
   "cell_type": "markdown",
   "id": "faed34bb-63f3-4931-a12e-cda18c3e536d",
   "metadata": {},
   "source": [
    "```elm\n",
    "\n",
    "```"
   ]
  }
 ],
 "metadata": {
  "kernelspec": {
   "display_name": "Elm Repl",
   "language": "elm",
   "name": "elmreplkernel"
  },
  "language_info": {
   "codemirror_mode": "elm",
   "file_extension": ".elm",
   "mimetype": "text/x-elm",
   "name": "elm"
  }
 },
 "nbformat": 4,
 "nbformat_minor": 5
}
