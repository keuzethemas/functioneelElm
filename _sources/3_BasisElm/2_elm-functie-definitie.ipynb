{
 "cells": [
  {
   "cell_type": "markdown",
   "id": "3c5acbf5-818c-4a6a-9c0b-8194fa72b2d6",
   "metadata": {},
   "source": [
    "# 3.2 Functiedefinitie in Elm\n",
    "\n",
    "In het vorige hoofdstuk hebben we de functie 'toString' gezien. Hier werd een inputwaarde of parameter in gestopt en er komt als resultaat een outputwaarde (het resultaat) uit. Het is ook mogelijk meerdere waarden mee te geven aan een functie, en er zijn ook functies die helemaal géén input verwachten. Zoals de naam al suggereert zijn functies bij 'functioneel programmeren' erg belangrijk. \n",
    "\n",
    "Eigenlijk kun je in het algemeen een computerprogramma ook zien als iets wat je aanroept, waar je inputwaarden in stopt en waar dan outputwaarden uit komen. \n",
    "Bij web-apps is dit soms nog redelijk duidelijk te herkennen: het begint vaak met het in je browser intypen van een url (internetadres: bijvoorbeeld http://elm-lang.org/ ): deze url (dit is een tekst, en dus in softwaretermen een String) wordt naar een server (een computer ergens op het internet) gestuurd: deze computer krijgt dus een string als input. Er wordt een berekening gedaan ('functie uitgevoerd') en het resultaat (de outputwaarde) is een html-pagina (ook een String), die terug wordt gestuurd naar jouw computer, jouw browser om precies te zijn, die de html-pagina op je scherm toont. \n",
    "\n",
    "Als je er op deze manier over na gaat denken zul je zien dat je veel acties die een computer(programma) uitvoert kunt zien als het uitvoeren/aanroepen van een functie. \n",
    "\n",
    "OK, nog een voorbeeldje dan: je dacht misschien hierboven: ja, maar in dat html-scherm staat een knop en een knop is echt iets anders dan een tekst. Je hebt vast ooit naar de 'sources' van een web-pagina hebt gekeken (je hebt vast al html gehad maar anders ook sowieso nuttig, en elke browser heeft hier wel een optie voor, iets als 'view source') heb je gezien dat een button daar terugkomt in iets wat in essentie lijkt op: &lt;button name=\"buttonPressMe\" action=\"doSomething()\"/&gt;, dus zelfs een button in een html-page is een String. \n",
    "Het komt er eigenlijk op neer dat de browser de String die terugkomt van de server als inputwaarde neemt voor zijn 'functie' ShowPage(receivedHtml) en als output de 'page' geeft die je op scherm ziet. In die getoonde page zitten andere dingen dan tekst, er kunnen buttons, textboxes, pictures, listboxes en nog veel meer zichtbaar zijn, maar de omschrijving van wát er te zien is komt dus uit de html-String.\n",
    "\n",
    "Je kunt ook zelf nieuwe functies erbij programmeren. Met bijvoorbeeld: "
   ]
  },
  {
   "cell_type": "code",
   "execution_count": null,
   "id": "bb862c03-5742-46df-bd5a-7cd455a76987",
   "metadata": {},
   "outputs": [],
   "source": [
    "telTweeOpBij x = x + 2"
   ]
  },
  {
   "cell_type": "markdown",
   "id": "0d8324dd-74f1-4350-8ce8-693c2b3dd9b2",
   "metadata": {},
   "source": [
    "wordt een nieuwe functie telTweeOpBij (deze naam kun je dus zelf kiezen)\n",
    "gedefinieerd. \n",
    "Na deze definitie kun je schrijven: "
   ]
  },
  {
   "cell_type": "code",
   "execution_count": null,
   "id": "3f4106c5-92d1-4eed-a44c-24a1249dd5e1",
   "metadata": {},
   "outputs": [],
   "source": [
    "telTweeOpBij 5"
   ]
  },
  {
   "cell_type": "markdown",
   "id": "2054c90e-e132-4901-9fc4-910042774381",
   "metadata": {},
   "source": [
    "Komt hier uit wat je verwacht?\n",
    "Onthoud de functie 'telTweeOpBij', we komen hier op terug bij het hoofdstuk over Lists.\n",
    "\n",
    "We hadden in plaats van telTweeOpBij ook kunnen schrijven: "
   ]
  },
  {
   "cell_type": "code",
   "execution_count": null,
   "id": "04600278-4d42-4de4-a3d0-9011b9b1c85d",
   "metadata": {},
   "outputs": [],
   "source": [
    "\\x -> x + 2"
   ]
  },
  {
   "cell_type": "markdown",
   "id": "d3031e1d-3bb8-4d19-a06c-3a889079f1c4",
   "metadata": {},
   "source": [
    "waarbij `\\x -> x + 2` eigenlijk wil zeggen: wat er in gaat noemen we x en er\n",
    "komt uit x + 2. Je kunt dit vergelijken met een functie f in de wiskunde: \n",
    "\n",
    "$$f(x) = x + 2$$\n",
    "\n",
    "alleen heeft de functie `\\x -> x + 2` geen naam. Bij de definitie van telTweeOpBij een stukje terug hadden we de functie wel een naam gegeven (namelijk `telTweeOpBij`). Herhalen we nu die definitie maar dan met naam f in plaats\n",
    "van telTweeOpBij dan staat er: "
   ]
  },
  {
   "cell_type": "code",
   "execution_count": null,
   "id": "1cd9f91b-4929-4ad8-8d65-7a6434d41f53",
   "metadata": {},
   "outputs": [],
   "source": [
    "f x = x + 2"
   ]
  },
  {
   "cell_type": "markdown",
   "id": "ca105dbb-6c32-4305-8824-357bfd2ed6df",
   "metadata": {},
   "source": [
    "Hee, da’s bijna wiskunde!? \n",
    "\n",
    "We hebben nu dus 2 manieren gezien om een functie te definiëren, als functie met een naam (`f`):"
   ]
  },
  {
   "cell_type": "code",
   "execution_count": null,
   "id": "fa3d8874-ade9-4860-81f3-381d4c00e26a",
   "metadata": {},
   "outputs": [],
   "source": [
    "f x = x + 2"
   ]
  },
  {
   "cell_type": "markdown",
   "id": "4e5f77bc-5725-45d7-a828-fb8e56cbcdac",
   "metadata": {},
   "source": [
    "of als functie zonder naam (\"anoniem\"):"
   ]
  },
  {
   "cell_type": "code",
   "execution_count": null,
   "id": "e46cdd6a-e7bd-419f-8b5b-ef017052aa13",
   "metadata": {},
   "outputs": [],
   "source": [
    "\\x -> x + 2"
   ]
  },
  {
   "cell_type": "markdown",
   "id": "246a4416-d0d0-42e5-b196-496ccad3b3d8",
   "metadata": {},
   "source": [
    "We noemen deze laatste vorm ook wel een *anonymous function*."
   ]
  },
  {
   "cell_type": "markdown",
   "id": "efa9d0d0-f2f4-4eff-a1f4-8c681fb245ee",
   "metadata": {},
   "source": [
    "## Leonardo Pisano nog een keer...\n",
    "\n",
    "Als je niet weet wie Leonardo Pisano is zou ik er eens op googlen, hij is al eerder aan bod gekomen, zij het onder een andere naam... \n",
    "\n",
    "Enfin, de eerder getoonde formule hier op de `Elm`-manier: "
   ]
  },
  {
   "cell_type": "code",
   "execution_count": null,
   "id": "f3e75a40-a0cd-4bf4-81a9-2a33f03e658e",
   "metadata": {},
   "outputs": [],
   "source": [
    "fibo n = if n <= 2 then n - 1 else (fibo ( n - 1 ) ) + ( fibo (n-2) )"
   ]
  },
  {
   "cell_type": "markdown",
   "id": "24837f8f-d37d-4572-98d9-c569b4492c66",
   "metadata": {},
   "source": [
    "Waarna het zoveelste `fibo`-getal op te vragen is met `fibo zoveel`: \n",
    "dus bijvoorbeeld \n",
    "fibo 1, \n",
    "fibo 5,\n",
    "fibo 38."
   ]
  },
  {
   "cell_type": "code",
   "execution_count": null,
   "id": "531e68cc-6b50-4779-b1e5-0ece2a8bbfe2",
   "metadata": {},
   "outputs": [],
   "source": [
    "fibo 5"
   ]
  },
  {
   "cell_type": "markdown",
   "id": "4d00c7eb-1dda-460c-8c0a-580753d40e98",
   "metadata": {},
   "source": [
    "## Tweedegraads vergelijking\n",
    "\n",
    "Zoals je bij wiskunde hebt geleerd kun je de zogenaamde tweedegraads vergelijking: \n",
    "\n",
    "$$ ax^2 + bx + c = 0 $$\n",
    "\n",
    "oplossen door allereerst de discriminant $D = b^2 - 4ac$ uit te rekenen. \n",
    "Als $D < 0$ is is er geen reële oplossing, als $D \\geq 0$ zijn er 2 oplossingen\n",
    "(die voor $D=0$ aan elkaar gelijk zijn).\n",
    "\n",
    "Definieer een functie `discriminant` die gegeven 3 getallen (inderdaad: a, b, c)\n",
    "de discriminant berekent: "
   ]
  },
  {
   "cell_type": "code",
   "execution_count": null,
   "id": "cf3220d6-a919-46e6-a1d6-c346e138addb",
   "metadata": {},
   "outputs": [],
   "source": [
    "discriminant a b c = (b * b) - (4 * a * c)"
   ]
  },
  {
   "cell_type": "markdown",
   "id": "7209f8e0-9388-42c2-b68b-389dd90f9e60",
   "metadata": {},
   "source": [
    "Voor de leesbaarheid is het goed hier de haakjes te zetten!\n",
    "\n",
    "Zou $38x^2 + 12x + 6$ oplossingen hebben? \n",
    "\n",
    "Vraag het Elm met behulp van de aanroep: "
   ]
  },
  {
   "cell_type": "code",
   "execution_count": null,
   "id": "5392a693-aec5-4810-b618-570d5a222587",
   "metadata": {},
   "outputs": [],
   "source": [
    "discriminant 38 12 6"
   ]
  },
  {
   "cell_type": "markdown",
   "id": "11bf6fdc-d5f7-49a9-9028-ad892c4da81f",
   "metadata": {},
   "source": [
    "Als het antwoord groter dan 0 is zijn er 2\n",
    "verschillende oplossingen voor x, als het antwoord 0 is is er 1 oplossing en als\n",
    "het antwoord begint met een - is er geen (reële) oplossing.\n",
    "\n",
    "Merk op dat Elm de discriminant ziet als een functie van het type\n",
    "\n",
    "`number -> number -> number -> number`\n",
    "\n",
    "wat wil zeggen dat de functie achtereenvolgens 3 parameters verwacht!\n",
    "Het is dus mogelijk voor tweedegraads vergelijkingen waarbij er géén getal\n",
    "(ofwel een 1) voor de x-kwadraat staat een alternatieve functie te definiëren\n",
    "om de discriminant te berekeningen (noemen de dit de eenheidsdiscriminant)\n",
    "door middel van"
   ]
  },
  {
   "cell_type": "code",
   "execution_count": null,
   "id": "4f28b1d9-323b-492d-a481-88a96a6dc3a8",
   "metadata": {},
   "outputs": [],
   "source": [
    "eenheidsdiscriminant = discriminant 1"
   ]
  },
  {
   "cell_type": "markdown",
   "id": "601a1832-d94f-488d-828c-8889ffbc8934",
   "metadata": {},
   "source": [
    "wat dus eigenlijk betekent dat de eenheidsdiscriminant de normale discriminant\n",
    "is met voor de a vast 1 ingevuld. Dat wil zeggen dat"
   ]
  },
  {
   "cell_type": "code",
   "execution_count": null,
   "id": "943b2bcb-0444-4fab-b138-fba125cb0c05",
   "metadata": {},
   "outputs": [],
   "source": [
    "discriminant 1 10 2"
   ]
  },
  {
   "cell_type": "markdown",
   "id": "9a484a2e-6bf5-46c9-aaf1-7b71fbde184e",
   "metadata": {},
   "source": [
    "gelijk moet zijn aan"
   ]
  },
  {
   "cell_type": "code",
   "execution_count": null,
   "id": "14074fad-7d5a-498a-b5bf-67cd9f97f432",
   "metadata": {},
   "outputs": [],
   "source": [
    "eenheidsdiscriminant 10 2"
   ]
  },
  {
   "cell_type": "markdown",
   "id": "e2b4d75d-19c7-46aa-853d-9a4fb770a1e8",
   "metadata": {},
   "source": [
    "Is dat ook zo?\n",
    "\n",
    "## Challenge abc\n",
    "\n",
    "Dat was de discriminant. Volgende stap is het construeren van een functie die de oplossingen zelf teruggeeft. Ken je de 'abc-formule' nog? (of misschien ken je hem onder de naam 'het Kanon' of 'de wortelformule') Zo niet, zoek hem op en bedenk hoe je dit aan zou kunnen pakken. \n",
    "\n",
    "Een tip die daarbij zou kunnen helpen is dat een functie in Elm meerdere waarden terug kan geven! We noemen dat dan een tuple: Een functie kan bijvoorbeeld teruggeven ( x1, x2 ) \n",
    "dat zouden dan de 2 oplossingen van de tweedegraadsvergelijking kunnen zijn. \n",
    "Als je op internet hierop gaat zoeken zou je de keywords 'elm tuple' kunnen gebruiken. \n",
    "Probeer dit eens uit te werken. Eventueel zou je een tuple met 3 waarden kunnen teruggeven: eerste waarde geeft aantal oplossingen terug (0, 1, of 2), en de volgende 2 waarden in de tuple zijn dan de zogenaamde x1 en x2 (dus de oplossingen van de vergelijking). "
   ]
  },
  {
   "cell_type": "code",
   "execution_count": null,
   "id": "a387ce29-484e-4b76-9aea-ac40bbaf01f9",
   "metadata": {},
   "outputs": [],
   "source": []
  }
 ],
 "metadata": {
  "kernelspec": {
   "display_name": "Elm Repl",
   "language": "elm",
   "name": "elmreplkernel"
  },
  "language_info": {
   "codemirror_mode": "elm",
   "file_extension": ".elm",
   "mimetype": "text/x-elm",
   "name": "elm"
  }
 },
 "nbformat": 4,
 "nbformat_minor": 5
}
