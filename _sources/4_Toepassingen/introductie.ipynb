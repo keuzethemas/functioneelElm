{
 "cells": [
  {
   "cell_type": "markdown",
   "metadata": {},
   "source": [
    "# Elm toepassingen"
   ]
  },
  {
   "cell_type": "markdown",
   "metadata": {},
   "source": [
    "## Introductie\n",
    "\n",
    "Als afsluiting van de module programmeerparadigma’s met Elm gaan we drie Toepassingen programmeren die te maken hebben met wat jullie bij wiskunde geleerd hebben.\n",
    "\n",
    "Deze toepassingen zijn:\n",
    "\n",
    "* [Een programma om grafiek van een polynoom af te drukken](polynoom.ipynb)\n",
    "* [Een programma om een boxplot af te drukken](boxplot.ipynb)\n",
    "* [Een programma om ijskristallen te tekenen](ijskristallen.ipynb)\n",
    "\n",
    "Als afsluiting kun je ook een aantal Algemene Uitwerkingen van Examens uit Examenblad maken\n",
    "\n",
    "* [Havo2018 Natuurkunde](havo2018-natuurkunde-repl.ipynb)\n"
   ]
  },
  {
   "cell_type": "code",
   "execution_count": null,
   "metadata": {},
   "outputs": [],
   "source": []
  },
  {
   "cell_type": "code",
   "execution_count": null,
   "metadata": {},
   "outputs": [],
   "source": []
  }
 ],
 "metadata": {
  "kernelspec": {
   "display_name": "Elm",
   "language": "elm",
   "name": "elm"
  },
  "language_info": {
   "codemirror_mode": "elm",
   "file_extension": ".elm",
   "mimetype": "text/x-elm",
   "name": "elm"
  }
 },
 "nbformat": 4,
 "nbformat_minor": 4
}
