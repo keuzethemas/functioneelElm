{
 "cells": [
  {
   "cell_type": "markdown",
   "id": "9c037a05-1e94-4310-85be-9c7b3e5d5c2a",
   "metadata": {},
   "source": [
    "# Lijst met functiepunten"
   ]
  },
  {
   "cell_type": "markdown",
   "id": "618e85c0-dff8-4dc5-a764-9ceef143d7fb",
   "metadata": {},
   "source": [
    "Voor het tekenen van de grafiek van een functie is het nodig om deze functie in een groot aantal punten uit te rekenen. We definiëren daarvoor een functie `funcTuples`.\n",
    "\n",
    "Het resultaat van de functie `funcTuples f start stop step` is een lijst van functiepunten van de vorm van een tuple (paar) `(x, f x)`, voor alle opeenvolgende punten `x` op het interval `start..stop`, in stappen van grootte `step`.\n",
    "\n",
    "Voorbeeld: `funcTuples sqr 0 4 1` geeft: `[(0,0), (1,1), (2,4), (3,9), (4,16)]` - voor `sqr x = x * x`.\n",
    "\n",
    "In een volgende stap zetten we deze lijst van tuples om in een string, wat nodig is voor de SVG tekenfuncties. Voor het bovengenoemde voorbeeld krijgen we dan: `\"0,0 1,1 2,4 3,9 4,16\"`.\n",
    "\n",
    "We ontwikkelen de volgende functies:\n",
    "\n",
    "* `xList start stop step` - lijst met de opeenvolgende x-punten vanaf start\n",
    "* `funcTuples f start stop step` - lijst met `(x, f x)` tuples\n",
    "* `tupleToPoint (a, b)` - van `(a, b)` naar `\"a,b\"`\n",
    "* `tuplesToPoints tuples` - van tuple-list naar string als lijst van SVG-punten"
   ]
  },
  {
   "cell_type": "markdown",
   "id": "dc47e232-0800-4e2c-845e-de48281c2ae1",
   "metadata": {},
   "source": [
    "We gebruiken de volgende definities:"
   ]
  },
  {
   "cell_type": "code",
   "execution_count": null,
   "id": "466b2ce4-f620-4580-a7b6-d999a43955e0",
   "metadata": {},
   "outputs": [],
   "source": [
    "import List exposing (..)"
   ]
  },
  {
   "cell_type": "code",
   "execution_count": null,
   "id": "fc9b47a1-46ad-4f66-b55d-f87d7eb1e5b6",
   "metadata": {},
   "outputs": [],
   "source": [
    "sqr x = x * x"
   ]
  },
  {
   "cell_type": "code",
   "execution_count": null,
   "id": "29353da6-8eb2-483e-b6ad-0e4ced59b12b",
   "metadata": {},
   "outputs": [],
   "source": [
    "werkzelfuit = 0"
   ]
  },
  {
   "cell_type": "code",
   "execution_count": null,
   "id": "c17c0467-8b10-4da0-b575-21723343b63f",
   "metadata": {},
   "outputs": [],
   "source": [
    "werkzelfuitList = []"
   ]
  },
  {
   "cell_type": "code",
   "execution_count": null,
   "id": "4a36154e-293e-4d54-814c-73f1cecbd0de",
   "metadata": {},
   "outputs": [],
   "source": [
    "werkzelfuitFunc x = x"
   ]
  },
  {
   "cell_type": "markdown",
   "id": "f2b1a179-4b3c-4b04-8822-c30832b33cb6",
   "metadata": {},
   "source": [
    "## `xList`: lijst met x-punten"
   ]
  },
  {
   "cell_type": "markdown",
   "id": "57cc7280-048b-49ef-a3bc-3215207a1b0a",
   "metadata": {},
   "source": [
    "De functie `xList start stop step` (waarbij we aannemen dat stop >= start) geeft de lijst met x-punten\n",
    "\n",
    "`[start+0*step, start+1*step, start+2*step, ..., stop]` \n",
    "\n",
    "waarbij `stop` = `start + nrsteps * step`. Voor deze punten berekenen we later de bijbehorende functiewaarden.\n",
    "\n",
    "Ontwikkel deze functie in een aantal stappen:\n",
    "\n",
    "1. bepaal eerst het aantal stappen, `nrsteps`;\n",
    "2. maak vervolgens de lijst `[0, 1, ... nrsteps]` met de factoren voor `step`;\n",
    "3. schaal en verschuif de factoren-lijst tot `start+k*step`."
   ]
  },
  {
   "cell_type": "markdown",
   "id": "2874654b-b013-4928-9d00-ad74e199bc6b",
   "metadata": {},
   "source": [
    "**1. Bepaal het aantal stappen.** \n",
    "\n",
    "Het aantal stappen op het interval start..stop met stapgrootte 1 is stop - start. Voorbeeld: 1..10 telt 9 stappen.\n",
    "\n",
    "Voor een willekeurige stapgrootte `step` geldt: het aantal stappen is gelijk aan `(stop - start) / step`. Omdat `step` een floating point getal kan zijn, bijvoorbeeld 0.5, moeten we het resultaat nog afronden (`round`) tot een geheel getal.\n",
    "\n",
    "Voorbeeld: (vul voor stop, start en step verschillende waarden in)"
   ]
  },
  {
   "cell_type": "code",
   "execution_count": null,
   "id": "1d7cc808-5a96-4859-801d-baab942f0d1c",
   "metadata": {},
   "outputs": [],
   "source": [
    "round ((10 - 1) / 0.5)"
   ]
  },
  {
   "cell_type": "code",
   "execution_count": null,
   "id": "2f1945e8-fc41-466f-8aab-0dc8d6c11cc4",
   "metadata": {},
   "outputs": [],
   "source": [
    "nrsteps : Float -> Float -> Float -> Int\n",
    "nrsteps start stop step = werkzelfuit"
   ]
  },
  {
   "cell_type": "markdown",
   "id": "600bf92f-e1a8-4bbc-bb6a-9aa779dfe294",
   "metadata": {},
   "source": [
    "**2. Maak de lijst [0, 1, .. nrsteps].**\n",
    "\n",
    "Met behulp van de functie `List.range a b` maak je de lijst [a, a+1, ..., b]"
   ]
  },
  {
   "cell_type": "code",
   "execution_count": null,
   "id": "3acbd763-1a19-4eba-ad80-e3d4f4fa15af",
   "metadata": {},
   "outputs": [],
   "source": [
    "baselist = werkzelfuitList"
   ]
  },
  {
   "cell_type": "markdown",
   "id": "aa32424c-eb01-4baf-b098-c5137b25d8c6",
   "metadata": {},
   "source": [
    "**3. Schaal en verschuif**\n",
    "\n",
    "Hiervoor pas je (via `map`) op elk punt van de lijst de functie toe: `\\x -> start + step * toFloat x`. We moeten de parameter `x`, een Int, hier omzetten in een Float, omdat Elm geen gemengde Int - Float berekeningen kent.\n",
    "\n",
    "Voorbeeld:"
   ]
  },
  {
   "cell_type": "code",
   "execution_count": null,
   "id": "744812d3-c013-4d1a-9af8-6c73b7514fc7",
   "metadata": {},
   "outputs": [],
   "source": [
    "map werkzelfuitFunc baselist"
   ]
  },
  {
   "cell_type": "markdown",
   "id": "01d2ff8e-fd76-4056-a258-e4e7277c6e3b",
   "metadata": {},
   "source": [
    "Combineer de vorige elementen in de onderstaande functie:"
   ]
  },
  {
   "cell_type": "code",
   "execution_count": null,
   "id": "a3d9678d-9650-49bd-a315-92b9bdd3217f",
   "metadata": {},
   "outputs": [],
   "source": [
    "xList start stop step =\n",
    "  let\n",
    "    steps = werkzelfuit\n",
    "    steplist = werkzelfuitList\n",
    "  in\n",
    "    werkzelfuitList"
   ]
  },
  {
   "cell_type": "markdown",
   "id": "8511bf0c-01fa-4237-b3cd-83244ba78747",
   "metadata": {},
   "source": [
    "Voorbeeld:"
   ]
  },
  {
   "cell_type": "code",
   "execution_count": null,
   "id": "7e081353-3fab-4aa4-a299-eba6adae90d5",
   "metadata": {},
   "outputs": [],
   "source": [
    "xList 1 10 0.5"
   ]
  },
  {
   "cell_type": "markdown",
   "id": "037aca8b-e945-49f5-ad64-1b0acaf8a79c",
   "metadata": {},
   "source": [
    "## Maak de lijst Functuples"
   ]
  },
  {
   "cell_type": "markdown",
   "id": "5630e86e-42cc-46fa-b289-8c09dad6864c",
   "metadata": {},
   "source": [
    "Gegeven de lijst met x-waarden, maak een lijst met tuples `(x, fx)`.\n",
    "\n",
    "Dit kan door de functie `x -> (x, f x)` via `map` op elk punt in de x-lijst toe te passen:"
   ]
  },
  {
   "cell_type": "code",
   "execution_count": null,
   "id": "923d9493-5be5-4d52-8882-bba9bad3666a",
   "metadata": {},
   "outputs": [],
   "source": [
    "funcTuples f start stop end = \n",
    "  map werkzelfuitFunc (xList start stop end)"
   ]
  },
  {
   "cell_type": "markdown",
   "id": "23a9df28-8eb2-4ade-b164-24cd59e4b214",
   "metadata": {},
   "source": [
    "Voorbeeld:"
   ]
  },
  {
   "cell_type": "code",
   "execution_count": null,
   "id": "bd66dc88-f766-4507-8802-673d657e52d6",
   "metadata": {},
   "outputs": [],
   "source": [
    "funcTuples sqr -3 3 0.5"
   ]
  },
  {
   "cell_type": "markdown",
   "id": "8a7e8d76-3e46-4c59-be3b-c37c63251e31",
   "metadata": {},
   "source": [
    "## Van tuple naar SVG-point\n",
    "\n",
    "Een SVP \"point\" is een string met twee getallen x en y gescheiden door een komma.\n",
    "\n",
    "\n",
    "\n",
    "Voor het tekenen van de grafiek met behulp van SVG moeten we deze lijst in String-notatie omzetten.\n",
    "\n",
    "Elk tupel van de vorm `(x, fx)` moet dan omgezet worden in de string: \"x,fx\" - gescheiden door spaties."
   ]
  },
  {
   "cell_type": "code",
   "execution_count": null,
   "id": "2ed5afec-1081-494f-925b-e50e8e9802a9",
   "metadata": {},
   "outputs": [],
   "source": [
    "tupleToPoint (a, b) =\n",
    "  String.fromFloat a ++ \",\" ++ String.fromFloat b"
   ]
  },
  {
   "cell_type": "markdown",
   "id": "2c7e5926-72f4-46d4-b5e8-4dc57fb8c571",
   "metadata": {},
   "source": [
    "Voorbeeld:"
   ]
  },
  {
   "cell_type": "code",
   "execution_count": null,
   "id": "fa91baa5-2326-4584-956d-feec6510d9e7",
   "metadata": {},
   "outputs": [],
   "source": [
    "tupleToPoint (2, 4)"
   ]
  },
  {
   "cell_type": "markdown",
   "id": "d4fa0c17-a82a-4ade-b944-96c6fac286e6",
   "metadata": {},
   "source": [
    "## van functiepunten-lijst naar SVG points-string"
   ]
  },
  {
   "cell_type": "markdown",
   "id": "8c3df8fc-4ff5-45cb-bf71-781723e2e1b8",
   "metadata": {},
   "source": [
    "Maak een functie `tuplesToPoints tuples` met als resultaat een string die bestaat uit SVG \"points\" (gemaakt uit de `tuples`) gescheiden door spaties.\n",
    "\n",
    "Doe dit in twee stappen:\n",
    "\n",
    "(1) pas de functie `tupleToPoint` (via `map`) toe op de lijst met tuples; het resultaat is een *lijst* van points"
   ]
  },
  {
   "cell_type": "code",
   "execution_count": null,
   "id": "1b31a749-bc02-4c0c-8621-22295331eb07",
   "metadata": {},
   "outputs": [],
   "source": [
    "werkzelfuitList"
   ]
  },
  {
   "cell_type": "markdown",
   "id": "90592e6e-a3b5-48ee-9ad7-8757dd332159",
   "metadata": {},
   "source": [
    "(2) combineer de elementen uit deze lijst door middel van `++\" \"++` tussen de elementen. Gebruik daarvoor `foldr` met de onderstaande functie:"
   ]
  },
  {
   "cell_type": "code",
   "execution_count": null,
   "id": "eb054a15-eb60-4577-88fa-15ed64258524",
   "metadata": {},
   "outputs": [],
   "source": [
    "connect a b =\n",
    "    a ++ \" \" ++ b"
   ]
  },
  {
   "cell_type": "code",
   "execution_count": null,
   "id": "e0f53d6c-593b-4b68-bcb4-5b63b6a81485",
   "metadata": {},
   "outputs": [],
   "source": [
    "foldr connect \"\" werkzelfuitList"
   ]
  },
  {
   "cell_type": "markdown",
   "id": "a9fe8e91-78d0-42c1-8bcc-d670de564f6f",
   "metadata": {},
   "source": [
    "(Wat gebeurt er als je `foldr` vervangt door `foldl`?)"
   ]
  },
  {
   "cell_type": "markdown",
   "id": "a346c6c7-0812-47d6-a880-f7266c809398",
   "metadata": {},
   "source": [
    "Werk nu de functie `tuplesToPoints` uit."
   ]
  },
  {
   "cell_type": "code",
   "execution_count": null,
   "id": "b32e9edb-4990-4ae9-968c-1290c529bd5d",
   "metadata": {},
   "outputs": [],
   "source": [
    "tuplesToPoints tuples = \"\""
   ]
  },
  {
   "cell_type": "markdown",
   "id": "f4613469-bd63-4426-aae0-4f1d37dac748",
   "metadata": {},
   "source": [
    "De volgende functies gebruik je straks voor het tekenen van de polynoom:\n",
    "\n",
    "* `xList start stop step`\n",
    "* `funcTuples f start stop step`\n",
    "* `tupleToPoint (a, b)`\n",
    "* `tuplesToPoints tlst`"
   ]
  },
  {
   "cell_type": "code",
   "execution_count": null,
   "id": "faae4b3f-fc48-4287-8805-8e871081219a",
   "metadata": {},
   "outputs": [],
   "source": []
  }
 ],
 "metadata": {
  "kernelspec": {
   "display_name": "Elm Repl",
   "language": "elm",
   "name": "elmreplkernel"
  },
  "language_info": {
   "codemirror_mode": "elm",
   "file_extension": ".elm",
   "mimetype": "text/x-elm",
   "name": "elm"
  }
 },
 "nbformat": 4,
 "nbformat_minor": 5
}
