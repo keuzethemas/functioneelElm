{
 "cells": [
  {
   "cell_type": "markdown",
   "id": "5974b1de-b7ab-4ee8-aac6-39070b630461",
   "metadata": {},
   "source": [
    "# Elm programma's"
   ]
  },
  {
   "cell_type": "markdown",
   "id": "bd9c21bc-06e0-45ea-9828-7c1cb5c08d4e",
   "metadata": {},
   "source": [
    "In dit notebook geven we enkele voorbeelden van Elm programma's. Een Elm programma bestaat uit één of meer code-cellen, waarvan de laatste cel eindigt met\n",
    "\n",
    "```Elm\n",
    "-- compile-code\n",
    "````\n",
    "\n",
    "Dit geeft aan dat de voorafgaande cellen vertaald en uitgevoerd moeten worden.\n",
    "\n",
    "Het resultaat van een Elm programma is meestal een stukje web-pagina: HTML of SVG, eventueel met een Canvas voor tekeningen of animaties.\n",
    "\n",
    "Het eerste voorbeeld is \"Hello World\" in Elm:"
   ]
  },
  {
   "cell_type": "code",
   "execution_count": null,
   "id": "5b0587d6-2101-4caa-916b-60d71af472fb",
   "metadata": {},
   "outputs": [],
   "source": [
    "import Html\n",
    "\n",
    "\n",
    "main =\n",
    "  Html.text \"Hello, World!\"\n",
    "  \n",
    "-- compile-code"
   ]
  },
  {
   "cell_type": "markdown",
   "id": "f17c2289-f742-47e2-9c46-574ccbf2dad2",
   "metadata": {},
   "source": [
    "## Interactieve Elm \"app\"\n",
    "\n",
    "Het voorbeeld hieronder is een eenvoudige interactieve Elm \"app\".\n",
    "Het resultaat is een stukje web-pagina met een teller en twee knoppen, voor het ophogen en voor het aflagen van de teller.\n",
    "\n",
    "Dit programma is gebaseerd op de \"Elm architectuur\" voor web-apps. Voor een verdere uitleg, zie https://guide.elm-lang.org/architecture/buttons.html"
   ]
  },
  {
   "cell_type": "code",
   "execution_count": null,
   "id": "44aee516-2850-4171-a5e6-e0d6886797b5",
   "metadata": {},
   "outputs": [],
   "source": [
    "module Main exposing (..)\n",
    "\n",
    "-- Press buttons to increment and decrement a counter.\n",
    "--\n",
    "-- Read how it works:\n",
    "--   https://guide.elm-lang.org/architecture/buttons.html\n",
    "--\n",
    "\n",
    "\n",
    "import Browser\n",
    "import Html exposing (Html, button, div, text)\n",
    "import Html.Events exposing (onClick)\n",
    "\n",
    "\n",
    "\n",
    "-- MAIN\n",
    "\n",
    "\n",
    "main =\n",
    "  Browser.sandbox { init = init, update = update, view = view }\n",
    "\n",
    "\n",
    "\n",
    "-- MODEL\n",
    "\n",
    "\n",
    "type alias Model = Int\n",
    "\n",
    "\n",
    "init : Model\n",
    "init =\n",
    "  0\n",
    "\n",
    "\n",
    "\n",
    "-- UPDATE\n",
    "\n",
    "\n",
    "type Msg\n",
    "  = Increment\n",
    "  | Decrement\n",
    "\n",
    "\n",
    "update : Msg -> Model -> Model\n",
    "update msg model =\n",
    "  case msg of\n",
    "    Increment ->\n",
    "      model + 1\n",
    "\n",
    "    Decrement ->\n",
    "      model - 1\n",
    "\n",
    "\n",
    "\n",
    "-- VIEW\n",
    "\n",
    "\n",
    "view : Model -> Html Msg\n",
    "view model =\n",
    "  div []\n",
    "    [ button [ onClick Decrement ] [ text \"-\" ]\n",
    "    , div [] [ text (String.fromInt model) ]\n",
    "    , button [ onClick Increment ] [ text \"+\" ]\n",
    "    ]\n",
    "    \n",
    "-- compile-code"
   ]
  },
  {
   "cell_type": "code",
   "execution_count": null,
   "id": "9fe576c8-4a99-4522-9c09-eb3cace99ec7",
   "metadata": {},
   "outputs": [],
   "source": []
  }
 ],
 "metadata": {
  "kernelspec": {
   "display_name": "Elm",
   "language": "elm",
   "name": "elm"
  },
  "language_info": {
   "codemirror_mode": "elm",
   "file_extension": ".elm",
   "mimetype": "text/x-elm",
   "name": "elm"
  }
 },
 "nbformat": 4,
 "nbformat_minor": 5
}
