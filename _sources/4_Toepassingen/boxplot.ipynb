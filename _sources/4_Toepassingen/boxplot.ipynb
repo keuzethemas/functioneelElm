{
 "cells": [
  {
   "cell_type": "markdown",
   "metadata": {},
   "source": [
    "# Boxplot tekenen"
   ]
  },
  {
   "cell_type": "markdown",
   "metadata": {
    "jp-MarkdownHeadingCollapsed": true,
    "tags": []
   },
   "source": [
    "## Wat gaan we maken?\n",
    "\n",
    "We gaan een boxplot maken. Als je niet weet wat een boxplot is lees dan de uitleg op:\n",
    "\n",
    "* [http://www.dr-aart.nl/Statistiek-boxplot.html](http://www.dr-aart.nl/Statistiek-boxplot.html)\n",
    "\n",
    "Start het elm programma [boxplotdraw.elm](http://goloca.org:443/examples/boxplotdatadraw.elm) op. Je ziet het volgende:\n",
    "\n",
    "![boxplot-1.png](img/boxplot-1.png)\n",
    "\n",
    "In het vakje kun je de waardes voor een boxplot invullen. Vul daar de volgende waardes in uit het voorbeeld van Dr. Aart:\n",
    "\n",
    "7,3,8,6,8,5,4,5,3,6,2,6,9,1,2,7,5,8,7,6 (Let op: zet geen spaties na de komma’s).\n",
    "\n",
    "Je ziet deze boxplot:\n",
    "\n",
    "![boxplot-2](img/boxplot-2.png)\n",
    "\n",
    "## Hoe gaan we een boxplot maken?\n",
    "\n",
    "We gaan het vorige programma in Elm programmeren. Dit doen we met de volgende stappen.\n",
    "\n",
    "* Maak functie [boxplotdata](myboxplotdata.ipynb) om de gegevens voor een boxplot te bepalen;\n",
    "* Maak functie [boxplotdraw](myboxplotdraw.ipynb) om met deze gegevens de boxplot te tekenen."
   ]
  },
  {
   "cell_type": "markdown",
   "metadata": {},
   "source": [
    "## Merge sort\n",
    "\n",
    "Voor het bepalen van de mediaan en de kwartielen moet je de ingevoerde data sorteren, zoals je ziet bij het maken van `boxplotdata`. Je kunt daarvoor de Elm functie `sort` gebruiken, maar je kunt ook je eigen sorteerfunctie maken. Het Merge sort algoritme geeft een efficiënte oplossing.\n",
    "\n",
    "In [mergesort notebook](mymergesort.ipynb) bestudeer je Merge sort voor het maken van je eigen sorteerfunctie."
   ]
  },
  {
   "cell_type": "code",
   "execution_count": null,
   "metadata": {},
   "outputs": [],
   "source": []
  },
  {
   "cell_type": "code",
   "execution_count": null,
   "metadata": {},
   "outputs": [],
   "source": []
  }
 ],
 "metadata": {
  "kernelspec": {
   "display_name": "Elm",
   "language": "elm",
   "name": "elm"
  },
  "language_info": {
   "codemirror_mode": "elm",
   "file_extension": ".elm",
   "mimetype": "text/x-elm",
   "name": "elm"
  }
 },
 "nbformat": 4,
 "nbformat_minor": 4
}
