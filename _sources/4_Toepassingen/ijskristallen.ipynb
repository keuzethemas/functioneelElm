{
 "cells": [
  {
   "cell_type": "markdown",
   "metadata": {
    "tags": []
   },
   "source": [
    "# IJskristallen"
   ]
  },
  {
   "cell_type": "markdown",
   "metadata": {
    "tags": []
   },
   "source": [
    "## We gaan een eigen ijskristal maken\n",
    "\n",
    "Zoek op het internet plaatjes van ijskristallen zodat je weet hoe deze er uit zien.\n",
    "\n",
    "Start het elm programma [ijskristal.elm](http://goloca.org:443/examples/ijskristal.elm)\n",
    "Je ziet het volgende:"
   ]
  },
  {
   "cell_type": "markdown",
   "metadata": {
    "tags": []
   },
   "source": [
    "![elmex3-1.png](img/elmex3-1.png)"
   ]
  },
  {
   "cell_type": "markdown",
   "metadata": {
    "tags": []
   },
   "source": [
    "In het vakje kun je invoeren hoeveel maal het ijskristal verdeeld moet worden. Voer 4 in. Je ziet het volgende:"
   ]
  },
  {
   "cell_type": "markdown",
   "metadata": {
    "tags": []
   },
   "source": [
    "![elmex3-2.png](img/elmex3-2.png)"
   ]
  },
  {
   "cell_type": "markdown",
   "metadata": {
    "tags": []
   },
   "source": [
    "## Hoe gaan we een ijskristallen maken?\n",
    "\n",
    "In de cell hieronder staat het bestand <strong>myijskristallen.elm</strong>. Deze code staat in het view model daarvan.\n",
    "\n",
    "```Elm\n",
    "path =\n",
    "  [ koch startP1 startP2 model.passes []\n",
    "  , koch startP2 startP3 model.passes []\n",
    "  , koch startP3 startP1 model.passes []\n",
    "  ]\n",
    "```"
   ]
  },
  {
   "cell_type": "markdown",
   "metadata": {
    "tags": []
   },
   "source": [
    "In deze regel worden de punten voor de tekening in een lijst gezet. Dit gebeurt door 3 lijnen te bepalen en deze verder te bewerken zoals je hier ziet:"
   ]
  },
  {
   "cell_type": "markdown",
   "metadata": {
    "tags": []
   },
   "source": [
    "![elmex3-3.png](img/elmex3-3.png)"
   ]
  },
  {
   "cell_type": "markdown",
   "metadata": {
    "tags": []
   },
   "source": [
    "Daarvoor wordt de functie `koch` aangeroepen met als parameters:\n",
    "\n",
    "* Het startpunt van de lijn\n",
    "* Het eindpunt van de lijn\n",
    "* Het aantal stappen waarin de lijn bewerkt wordt\n",
    "* De lijst van punten die tot en met deze stap bepaald zijn\n",
    "\n",
    "\n",
    "In `koch` worden de drie nieuwe punten `p1`, `p2` en `p3` berekend om de lijn kunnen te tekenen."
   ]
  },
  {
   "cell_type": "markdown",
   "metadata": {
    "tags": []
   },
   "source": [
    "![elmex3-4.png](img/elmex3-4.png)"
   ]
  },
  {
   "cell_type": "markdown",
   "metadata": {
    "tags": []
   },
   "source": [
    "Het begin- en het eindpunt heten binnen `koch`: `a` en `b`. Het begin- en eindpunt worden als parameters meegegeven.\n",
    "\n",
    "Als het aantal stappen niet meer dan 1 is geeft de functie `koch` het volgende terug:\n",
    "\n",
    "```\n",
    "a :: p1 :: p2 :: p3 :: b :: points\n",
    "```\n",
    "\n",
    "Als het aantal stappen meer dan 1 is roept roep de functie `koch` zichzelf 4 keer aan met als te bewerken lijnen:\n",
    "\n",
    "\n",
    "* De lijn tussen de punten `a` en `p1`\n",
    "* De lijn tussen de punten `p1` en `p2`\n",
    "* De lijn tussen de punten `p2` en `p3`\n",
    "* De lijn tussen de punten `p3` en `b`\n",
    "\n",
    "\n",
    "Bij deze aanroepen verlaagt `koch` het aantal stappen met 1. Alle resulterende lijsten van deze 4 aanroepen zet `koch` in een gezamenlijke lijst en geeft deze terug."
   ]
  },
  {
   "cell_type": "markdown",
   "metadata": {
    "tags": []
   },
   "source": [
    "## Opdracht\n",
    "\n",
    "Maak je eigen ijskristal door de code van <strong>ijskristallen.elm</strong> in de volgende cell aan te passen."
   ]
  },
  {
   "cell_type": "code",
   "execution_count": null,
   "metadata": {},
   "outputs": [],
   "source": [
    "import Html exposing (text, div, input, Attribute)\n",
    "import Browser exposing (sandbox)\n",
    "import Html.Events exposing (on, keyCode, onInput)\n",
    "import Html.Attributes exposing(..)\n",
    "import Json.Decode as Json\n",
    "import String exposing(split)\n",
    "import List exposing(..)\n",
    "import Maybe exposing(..)\n",
    "import Svg exposing (..)\n",
    "import Svg.Attributes exposing (..)\n",
    "\n",
    "type alias Point =\n",
    "    { x : Float\n",
    "    , y : Float\n",
    "    }\n",
    "\n",
    "\n",
    "koch : Point -> Point -> Int -> List Point -> List Point\n",
    "koch a b limit points =\n",
    "    let\n",
    "        ( dx, dy ) =\n",
    "            ( b.x - a.x, b.y - a.y )\n",
    "\n",
    "        dist =\n",
    "            dx * dx + dy * dy |> sqrt\n",
    "\n",
    "        unit =\n",
    "            dist / 3\n",
    "\n",
    "        angle =\n",
    "            atan2 dy dx\n",
    "\n",
    "        p1 =\n",
    "            Point (a.x + dx / 3) (a.y + dy / 3)\n",
    "\n",
    "        p2 =\n",
    "            Point\n",
    "                (p1.x\n",
    "                    + (cos (angle - pi / 3))\n",
    "                    * unit\n",
    "                )\n",
    "                (p1.y\n",
    "                    + (sin (angle - pi / 3))\n",
    "                    * unit\n",
    "                )\n",
    "\n",
    "        p3 =\n",
    "            Point (b.x - dx / 3) (b.y - dy / 3)\n",
    "    in\n",
    "        if limit > 1 then\n",
    "            let\n",
    "                l =\n",
    "                    limit - 1\n",
    "            in\n",
    "                List.concat\n",
    "                    [ points\n",
    "                    , koch a p1 l points\n",
    "                    , koch p1 p2 l points\n",
    "                    , koch p2 p3 l points\n",
    "                    , koch p3 b l points\n",
    "                    ]\n",
    "        else\n",
    "            a :: p1 :: p2 :: p3 :: b :: points\n",
    "\n",
    "\n",
    "startP1 : Point\n",
    "startP1 =\n",
    "    Point 0 -150\n",
    "\n",
    "startP2 : Point\n",
    "startP2 =\n",
    "    Point 150 100\n",
    "\n",
    "\n",
    "startP3 : Point\n",
    "startP3 =\n",
    "    Point -150 100\n",
    "    \n",
    "pointsListToString: List Point -> String\n",
    "pointsListToString l =\n",
    "\n",
    "   if List.isEmpty l then\n",
    "       \"\"\n",
    "   else\n",
    "      let\n",
    "        h = withDefault (Point 0 0) (head (take 1 l))\n",
    "      in\n",
    "        (String.fromFloat h.x) ++ \",\" ++ (String.fromFloat h.y) ++ \" \" ++ (pointsListToString (drop 1 l))\n",
    "\n",
    "main = Browser.sandbox { init = init, update = update, view = view }\n",
    "\n",
    "type alias Model = { content : String }\n",
    "\n",
    "init : Model\n",
    "init = { content = \"1\" }\n",
    "\n",
    "view model =\n",
    "   let\n",
    "        path =\n",
    "            pointsListToString (koch startP1 startP2 (Maybe.withDefault 1 (String.toInt model.content)) []) ++ pointsListToString (koch startP2 startP3 (Maybe.withDefault 1 (String.toInt model.content)) []) ++ pointsListToString (koch startP3 startP1 (Maybe.withDefault 1 (String.toInt model.content)) [])\n",
    "   in\n",
    "        div []\n",
    "          [ input [ placeholder \"numbers separated by ,\", value model.content, onInput Change ] []\n",
    "          , svg [ viewBox \"0 0 200 200\", Svg.Attributes.width \"400px\" ]\n",
    "\n",
    "           [ g [ transform \"translate(100, 100) scale(0.5,-0.5)\" ]\n",
    "\n",
    "                 [ \n",
    "                    polyline [ fill \"none\", stroke \"black\", points path] []\n",
    "\n",
    "                ]\n",
    "\n",
    "           ]\n",
    "          ]\n",
    "          \n",
    "type Msg \n",
    "  = Change String\n",
    "\n",
    "update : Msg -> Model -> Model\n",
    "update msg model =\n",
    "  case msg of\n",
    "    Change newContent ->\n",
    "        { model | content = newContent }\n",
    "-- compile-code"
   ]
  },
  {
   "cell_type": "code",
   "execution_count": null,
   "metadata": {},
   "outputs": [],
   "source": []
  }
 ],
 "metadata": {
  "kernelspec": {
   "display_name": "Elm",
   "language": "elm",
   "name": "elm"
  },
  "language_info": {
   "codemirror_mode": "elm",
   "file_extension": ".elm",
   "mimetype": "text/x-elm",
   "name": "elm"
  }
 },
 "nbformat": 4,
 "nbformat_minor": 4
}
