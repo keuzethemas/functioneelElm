{
 "cells": [
  {
   "cell_type": "markdown",
   "metadata": {},
   "source": [
    "# Polynoom-tekenprogramma"
   ]
  },
  {
   "cell_type": "markdown",
   "metadata": {},
   "source": [
    "Het onderstaande tekenprogramma is opgezet volgens de Elm architectuur (zie: https://guide.elm-lang.org/architecture/). Het \"model\" bestaat uit de invoerstring met de getallen die door de gebruiker ingevoerd worden. Deze vormen de coëfficienten van de te tekenen polynoom.\n",
    "\n",
    "In de \"view\" wordt met behulp van SVG de grafiek van de ingevoerde polynoom getekend. Hiervoor worden SVG-polylines gebruikt: een lijn die gegeven is door een reeks punten. Elk punt is van de vorm `\"x,y\"`. De punten zijn gescheiden door spaties. \n",
    "\n",
    "**Vraag.** Bepaal welke \"polyline\" de x-as voorstelt, en welke de y-as. Je kunt dit controleren door de kleur van de lijn te veranderen."
   ]
  },
  {
   "cell_type": "markdown",
   "metadata": {},
   "source": [
    "Zie [https://www.w3schools.com/graphics/svg_polyline.asp](https://www.w3schools.com/graphics/svg_polyline.asp) als je meer over svg en polyline wilt weten.</p>"
   ]
  },
  {
   "cell_type": "markdown",
   "metadata": {},
   "source": [
    "Vul in de onderstaande code tussen `\"-- insert your code here\"` en `\"-- compile code\"` je eigen functie-definities in, voor de functies die je eerder ontwikkeld hebt:\n",
    "\n",
    "* `poly` (en eventueel `pow`)\n",
    "* `funcTuples` (en eventueel `xList`)\n",
    "* `tuplesToPoints`\n",
    "\n",
    "De functie `map` wordt in meerdere modules gedefinieerd. Je moet daarom in je eigen functies expliciet `List.map` schrijven.\n",
    "\n",
    "Vergelijk de resultaten met het eerder gegeven polynoom-tekenprogramma."
   ]
  },
  {
   "cell_type": "code",
   "execution_count": null,
   "metadata": {},
   "outputs": [],
   "source": [
    "import Html exposing (text, div, input, Attribute)\n",
    "import Browser exposing (sandbox)\n",
    "import Html.Events exposing (on, keyCode, onInput)\n",
    "import Html.Attributes exposing(..)\n",
    "import String exposing(split, fromFloat)\n",
    "import List exposing (..)\n",
    "import Maybe\n",
    "import Svg exposing (..)\n",
    "import Svg.Attributes exposing (..)\n",
    "\n",
    "stringsToFloats : List String -> List Float\n",
    "stringsToFloats ls =\n",
    "    List.map (\\s -> Maybe.withDefault 0 (String.toFloat s)) ls\n",
    "\n",
    "main = Browser.sandbox { init = init, update = update, view = view }\n",
    "\n",
    "type alias Model = { content : String }\n",
    "\n",
    "init : Model\n",
    "init = { content = \"\" }\n",
    "\n",
    "type Msg \n",
    "  = Change String\n",
    "\n",
    "update : Msg -> Model -> Model\n",
    "update msg model =\n",
    "  case msg of\n",
    "    Change newContent ->\n",
    "        { model | content = newContent }\n",
    "\n",
    "view model =\n",
    "  let\n",
    "    coefs = stringsToFloats (split \",\" model.content)\n",
    "    tuples = funcTuples (poly coefs) -100 100 1\n",
    "    funcPoints = tuplesToPoints tuples\n",
    "  in \n",
    "    div []\n",
    "     [ input [ placeholder \"numbers separated by ,\", value model.content, onInput Change ] []\n",
    "     , svg [ viewBox \"0 0 200 200\", Svg.Attributes.width \"400px\" ]\n",
    "       [ g [ transform \"translate(100, 100) scale(1,-1)\" ]\n",
    "           [ polyline [ fill \"none\", stroke \"black\", points \"0,-100 0,100\"] []\n",
    "           , polyline [ fill \"none\", stroke \"black\", points \"-100,0 100,0\"] [] \n",
    "           , polyline [ fill \"none\", stroke \"red\", points funcPoints ] []\n",
    "           ]\n",
    "       ]\n",
    "     ]\n",
    "    \n",
    "-- insert your code here\n",
    "\n",
    "poly : List Float -> Float -> Float\n",
    "poly coefs x = 0\n",
    "\n",
    "funcTuples : (Float -> Float) -> Float -> Float -> Float -> List (Float, Float)\n",
    "funcTuples f start stop step = []\n",
    "\n",
    "tuplesToPoints : List (Float, Float) -> String\n",
    "tuplesToPoints tuples = \"\"\n",
    "\n",
    "-- compile-code"
   ]
  },
  {
   "cell_type": "code",
   "execution_count": null,
   "metadata": {},
   "outputs": [],
   "source": []
  }
 ],
 "metadata": {
  "kernelspec": {
   "display_name": "Elm",
   "language": "elm",
   "name": "elm"
  },
  "language_info": {
   "codemirror_mode": "elm",
   "file_extension": ".elm",
   "mimetype": "text/x-elm",
   "name": "elm"
  }
 },
 "nbformat": 4,
 "nbformat_minor": 4
}
