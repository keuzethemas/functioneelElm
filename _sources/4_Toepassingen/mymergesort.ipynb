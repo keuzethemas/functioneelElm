{
 "cells": [
  {
   "cell_type": "markdown",
   "metadata": {},
   "source": [
    "# Mergesort"
   ]
  },
  {
   "cell_type": "markdown",
   "metadata": {},
   "source": [
    "Elm heeft een ingebouwde functie voor het sorteren van een lijst. Kijk maar: het resultaat van `List.sort aList` is een lijst met dezelfde waarden als in `aList`, maar nu geordend."
   ]
  },
  {
   "cell_type": "code",
   "execution_count": null,
   "metadata": {},
   "outputs": [],
   "source": [
    "import List exposing (sort, take, drop, reverse, length, range)"
   ]
  },
  {
   "cell_type": "code",
   "execution_count": null,
   "metadata": {},
   "outputs": [],
   "source": [
    "List.sort [7,3,8,6,8,5,4,5,3,6,2,6,9,1,2,7,5,8,7,6]"
   ]
  },
  {
   "cell_type": "markdown",
   "metadata": {},
   "source": [
    "Je gaat nu zelf een sorteerfunctie maken, `mergesort`, gebaseerd op het merge sort algoritme. Het basisidee van de `merge` hierin is het volgende:\n",
    "\n",
    "* als je twee gesorteerde lijsten `a` en `b` hebt, maak je daaruit een gesorteerde lijst door steeds de eerste elementen van `a` en `b` te vergelijken; \n",
    "* stel dat het kleinste `k` op kop van `a` staat: \n",
    "* zet `k` op de kop van de `merge` van `b` en de rest van `a`."
   ]
  },
  {
   "cell_type": "markdown",
   "metadata": {},
   "source": [
    "Maak nu eerst de functie voor het \"mergen\" van twee lijsten `a` en `b`.\n",
    "\n",
    "*Tip*: gebruik de `case` constructie met het tupel `(a,b)`, en de gevallen `([],_)`, `(_,[])`, en `(x::xs, y::ys)`."
   ]
  },
  {
   "cell_type": "code",
   "execution_count": null,
   "metadata": {},
   "outputs": [],
   "source": [
    "merge : List Float -> List Float -> List Float\n",
    "merge a b = []"
   ]
  },
  {
   "cell_type": "code",
   "execution_count": null,
   "metadata": {},
   "outputs": [],
   "source": [
    "merge [1,2,3] [2,3,4]"
   ]
  },
  {
   "cell_type": "markdown",
   "metadata": {},
   "source": [
    "## Merge sort\n",
    "\n",
    "Hoe kun je nu een lijst sorteren?\n",
    "\n",
    "* splits de lijst in twee (bijna) even grote deellijsten\n",
    "* sorteer deze deellijsten\n",
    "* \"merge\" de deellijsten tot een gesorteerde lijst\n",
    "\n",
    "Dit is een recursief schema: voor het sorteren van een lijst heb je een functie nodig voor het sorteren van een (kortere) lijst. Hiervoor kun je weer dezelfde `mergesort` functie gebruiken!"
   ]
  },
  {
   "cell_type": "markdown",
   "metadata": {},
   "source": [
    "Voor het splitsen van een lijst `lst` in twee (bijna) gelijke lijsten gebruik je de functies `List.take` en `List.drop`, met als eerste parameter de helft van de lengte van `lst`."
   ]
  },
  {
   "cell_type": "code",
   "execution_count": null,
   "metadata": {},
   "outputs": [],
   "source": [
    "take 2 [1,2,3,4]"
   ]
  },
  {
   "cell_type": "code",
   "execution_count": null,
   "metadata": {},
   "outputs": [],
   "source": [
    "drop 2 [1,2,3,4]"
   ]
  },
  {
   "cell_type": "markdown",
   "metadata": {},
   "source": [
    "Definieer de functie `mergesort`, met behulp van de eerder gedefinieerde functie `merge`.\n",
    "\n",
    "*Vraag:* wat is het resultaat als de lijst te kort is om in 2 lijsten te splitsen?"
   ]
  },
  {
   "cell_type": "code",
   "execution_count": null,
   "metadata": {},
   "outputs": [],
   "source": [
    "mergesort : List Float -> List Float\n",
    "mergesort lst = []"
   ]
  },
  {
   "cell_type": "code",
   "execution_count": null,
   "metadata": {},
   "outputs": [],
   "source": [
    "mergesort [7,3,8,6,8,5,4,5,3,6,2,6,9,1,2,7,5,8,7,6]"
   ]
  },
  {
   "cell_type": "markdown",
   "metadata": {},
   "source": [
    "## Een andere splits\n",
    "\n",
    "In plaats van `take` en `drop` kun je ook een recursieve functie maken voor het splitsen van een lijst in twee (bijna) even lange lijsten.\n",
    "\n",
    "De functie `split lst left right` splitst de lijst `lst` in twee lijsten, door steeds de kop-elementen van `lst` toe te voegen aan `left` en `right`. Als `lst` leeg is, vormen `left` en `right` het resultaat.\n",
    "\n",
    "*Vraag:* wat is het resultaat als `lst` uit 1 element bestaat?"
   ]
  },
  {
   "cell_type": "code",
   "execution_count": null,
   "metadata": {},
   "outputs": [],
   "source": [
    "split : List Float -> List Float -> List Float -> (List Float, List Float)\n",
    "split lst lsta lstb = ([], [])"
   ]
  },
  {
   "cell_type": "markdown",
   "metadata": {},
   "source": [
    "Voor het splitsen van een lijst gebruiken we de functie `split`, met de te splitsen lijst, en twee extra parameters: de tussenresultaten van het splitsen. Als de te splitsen lijst nog ten minste twee elementen heeft, voegen we het ene kopelement toe aan de ene split-lijst, en het andere kopelement aan de andere split-lijst. Als de lijst korter is, zijn we (bijna) klaar: het resultaat bestaat uit de beide split-lijsten.\n",
    "\n",
    "Deze techniek van het gebruik van extra parameters voor het opbouwen van een resultaat kom je vaker tegen bij recursieve programma's. Je kunt dit vergelijken met het gebruik van extra variabelen in een sequentieel algoritme."
   ]
  },
  {
   "cell_type": "code",
   "execution_count": null,
   "metadata": {},
   "outputs": [],
   "source": [
    "split [] [] []"
   ]
  },
  {
   "cell_type": "code",
   "execution_count": null,
   "metadata": {},
   "outputs": [],
   "source": [
    "split [1] [] []"
   ]
  },
  {
   "cell_type": "code",
   "execution_count": null,
   "metadata": {},
   "outputs": [],
   "source": [
    "split [1,2] [] []"
   ]
  },
  {
   "cell_type": "code",
   "execution_count": null,
   "metadata": {},
   "outputs": [],
   "source": [
    "split [1,2,3,4,5,6,7,8,9] [] []"
   ]
  },
  {
   "cell_type": "markdown",
   "metadata": {},
   "source": [
    "Definieer `mergesort1` met behulp van deze functie `split`."
   ]
  },
  {
   "cell_type": "code",
   "execution_count": null,
   "metadata": {},
   "outputs": [],
   "source": [
    "mergesort1 : List Float -> List Float\n",
    "mergesort1 lst = []"
   ]
  },
  {
   "cell_type": "code",
   "execution_count": null,
   "metadata": {},
   "outputs": [],
   "source": [
    "mergesort1 [7,3,8,6,8,5,4,5,3,6,2,6,9,1,2,7,5,8,7,6]"
   ]
  },
  {
   "cell_type": "code",
   "execution_count": null,
   "metadata": {},
   "outputs": [],
   "source": []
  }
 ],
 "metadata": {
  "kernelspec": {
   "display_name": "Elm Repl",
   "language": "elm",
   "name": "elmreplkernel"
  },
  "language_info": {
   "codemirror_mode": "elm",
   "file_extension": ".elm",
   "mimetype": "text/x-elm",
   "name": "elm"
  }
 },
 "nbformat": 4,
 "nbformat_minor": 4
}
