{
 "cells": [
  {
   "cell_type": "markdown",
   "metadata": {
    "tags": []
   },
   "source": [
    "# Polynomen tekenen"
   ]
  },
  {
   "cell_type": "markdown",
   "metadata": {
    "tags": []
   },
   "source": [
    "We gaan een programma maken dat een grafiek van een polynoom op het scherm toont. \n",
    "\n",
    "> Als je niet weet wat een polynoom is lees dan de uitleg op: [https://nl.wikipedia.org/wiki/Polynoom](https://nl.wikipedia.org/wiki/Polynoom)"
   ]
  },
  {
   "cell_type": "markdown",
   "metadata": {},
   "source": [
    "In het onderstaande venster zie hoe het resultaat eruit komt te zien. Je kunt hiermee experimenteren om te begrijpen wat de bedoeling is."
   ]
  },
  {
   "cell_type": "code",
   "execution_count": null,
   "metadata": {
    "tags": [
     "remove-input"
    ]
   },
   "outputs": [],
   "source": [
    "%%html\n",
    "<h3>Polynome drawing</h3>\n",
    "<iframe src=\"http://goloca.org:443/examples/powfuncpointsdraw.elm\" width=\"700\" height=\"450\n",
    "\"></iframe>"
   ]
  },
  {
   "cell_type": "markdown",
   "metadata": {
    "tags": []
   },
   "source": [
    "```{margin}\n",
    "De *graad* van een polynoom is de hoogste macht van $x$ die voorkomt,\n",
    "bijvoorbeeld 2 in het geval van $x^2$.\n",
    "```\n",
    "\n",
    "De functie $f(x) = 2x^2 + 3x + 1$ is een voorbeeld van een (tweedegraads) polynoom.\n",
    "De getallen $2$, $3$ en $1$ zijn de *coëfficienten* van dit polynoom.\n",
    "Als je de getallen `2,3,1` invult in het vakje (\"*numbers separated by ,*\") krijg je de grafiek van dit polynoom. Als een polynoomterm ontbreekt vul je daarvoor 0 in: de coëfficient is dan 0.\n",
    "\n",
    "Het programma toont de grafiek van de polynoom voor $-100 < x < 100$."
   ]
  },
  {
   "cell_type": "markdown",
   "metadata": {
    "tags": []
   },
   "source": [
    "* Vul in het vakje `5` in. Je ziet nu de grafiek voor de functie $f(x)=5$."
   ]
  },
  {
   "cell_type": "markdown",
   "metadata": {
    "tags": []
   },
   "source": [
    "* Vul in het vakje `1,0` in. Je zie nu de grafiek voor de functie $f(x)=x$."
   ]
  },
  {
   "cell_type": "markdown",
   "metadata": {
    "tags": []
   },
   "source": [
    "* Vul in het vakje `1,2` in. Je zie nu de grafiek voor de functie $f(x)=x+2$."
   ]
  },
  {
   "cell_type": "markdown",
   "metadata": {
    "tags": []
   },
   "source": [
    "* Vul in het vakje `1,0,0` in. Je zie nu de grafiek voor de functie $f(x)=x^2$."
   ]
  },
  {
   "cell_type": "markdown",
   "metadata": {
    "tags": []
   },
   "source": [
    "* Vul in het vakje `1,0,-4` in. Je zie nu de grafiek voor de functie $f(x)=x^2 - 4$."
   ]
  },
  {
   "cell_type": "markdown",
   "metadata": {
    "tags": []
   },
   "source": [
    "* Vul in het vakje `1,2,-4` in. Je zie nu de grafiek voor de functie $f(x)=x^2 + 2x  - 4$."
   ]
  },
  {
   "cell_type": "markdown",
   "metadata": {
    "tags": []
   },
   "source": [
    "* Vul nog wat andere waardes in voor a, b en c in en kijk wat er gebeurt. Als je een half wilt invullen moet dat als 0.5 en een tiende als 0.1.\n",
    "\n",
    "* Vul vier getallen in en kijk wat er gebeurt. Wat betekent dit?"
   ]
  },
  {
   "cell_type": "markdown",
   "metadata": {},
   "source": [
    "In het volgende gedeelte maak je de Elm-hulpfuncties voor het berekenen van een polynoom in een aantal punten. Daarna gebruik je deze hulpfuncties in een Elm-toepassing om het resultaat te krijgen zoals je hierboven ziet."
   ]
  },
  {
   "cell_type": "code",
   "execution_count": null,
   "metadata": {},
   "outputs": [],
   "source": []
  }
 ],
 "metadata": {
  "kernelspec": {
   "display_name": "Python 3 (ipykernel)",
   "language": "python",
   "name": "python3"
  },
  "language_info": {
   "codemirror_mode": {
    "name": "ipython",
    "version": 3
   },
   "file_extension": ".py",
   "mimetype": "text/x-python",
   "name": "python",
   "nbconvert_exporter": "python",
   "pygments_lexer": "ipython3",
   "version": "3.9.7"
  }
 },
 "nbformat": 4,
 "nbformat_minor": 4
}
